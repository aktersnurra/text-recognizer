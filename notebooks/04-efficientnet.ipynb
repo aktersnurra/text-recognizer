{
 "cells": [
  {
   "cell_type": "code",
   "execution_count": 1,
   "id": "7c02ae76-b540-4b16-9492-e9210b3b9249",
   "metadata": {},
   "outputs": [],
   "source": [
    "import os\n",
    "os.environ['CUDA_VISIBLE_DEVICE'] = ''\n",
    "import random\n",
    "\n",
    "%matplotlib inline\n",
    "import matplotlib.pyplot as plt\n",
    "\n",
    "import numpy as np\n",
    "from omegaconf import OmegaConf\n",
    "\n",
    "%load_ext autoreload\n",
    "%autoreload 2\n",
    "\n",
    "from importlib.util import find_spec\n",
    "if find_spec(\"text_recognizer\") is None:\n",
    "    import sys\n",
    "    sys.path.append('..')"
   ]
  },
  {
   "cell_type": "code",
   "execution_count": 2,
   "id": "ccdb6dde-47e5-429a-88f2-0764fb7e259a",
   "metadata": {},
   "outputs": [],
   "source": [
    "from hydra import compose, initialize\n",
    "from omegaconf import OmegaConf\n",
    "from hydra.utils import instantiate"
   ]
  },
  {
   "cell_type": "code",
   "execution_count": 10,
   "id": "3cf50475-39f2-4642-a7d1-5bcbc0a036f7",
   "metadata": {},
   "outputs": [],
   "source": [
    "path = \"../training/conf/network/encoder/efficientnet.yaml\""
   ]
  },
  {
   "cell_type": "code",
   "execution_count": 11,
   "id": "e52ecb01-c975-4e55-925d-1182c7aea473",
   "metadata": {},
   "outputs": [],
   "source": [
    "with open(path, \"rb\") as f:\n",
    "    cfg = OmegaConf.load(f)"
   ]
  },
  {
   "cell_type": "code",
   "execution_count": 12,
   "id": "f939aa37-7b1d-45cc-885c-323c4540bda1",
   "metadata": {},
   "outputs": [
    {
     "data": {
      "text/plain": [
       "{'_target_': 'text_recognizer.networks.encoders.efficientnet.EfficientNet', 'arch': 'b0', 'stochastic_dropout_rate': 0.2, 'bn_momentum': 0.99, 'bn_eps': 0.001}"
      ]
     },
     "execution_count": 12,
     "metadata": {},
     "output_type": "execute_result"
    }
   ],
   "source": [
    "cfg"
   ]
  },
  {
   "cell_type": "code",
   "execution_count": 13,
   "id": "42caaae5-7ee6-43fe-97eb-46c2a6915739",
   "metadata": {},
   "outputs": [],
   "source": [
    "cfg.arch = \"b2\""
   ]
  },
  {
   "cell_type": "code",
   "execution_count": 14,
   "id": "aaeab329-aeb0-4a1b-aa35-5a2aab81b1d0",
   "metadata": {},
   "outputs": [],
   "source": [
    "net = instantiate(cfg)"
   ]
  },
  {
   "cell_type": "code",
   "execution_count": 15,
   "id": "618b997c-e6a6-4487-b70c-9d260cb556d3",
   "metadata": {},
   "outputs": [],
   "source": [
    "from torchinfo import summary"
   ]
  },
  {
   "cell_type": "code",
   "execution_count": 16,
   "id": "25759b7b-8deb-4163-b75d-a1357c9fe88f",
   "metadata": {},
   "outputs": [
    {
     "data": {
      "text/plain": [
       "==========================================================================================\n",
       "Layer (type:depth-idx)                   Output Shape              Param #\n",
       "==========================================================================================\n",
       "EfficientNet                             --                        --\n",
       "├─ModuleList: 1-1                        --                        --\n",
       "├─Sequential: 1-2                        [2, 32, 288, 320]         --\n",
       "│    └─ZeroPad2d: 2-1                    [2, 1, 577, 641]          --\n",
       "│    └─Conv2d: 2-2                       [2, 32, 288, 320]         288\n",
       "│    └─BatchNorm2d: 2-3                  [2, 32, 288, 320]         64\n",
       "│    └─Mish: 2-4                         [2, 32, 288, 320]         --\n",
       "├─ModuleList: 1-1                        --                        --\n",
       "│    └─MBConvBlock: 2-5                  [2, 16, 288, 320]         --\n",
       "│    │    └─Sequential: 3-1              [2, 32, 288, 320]         352\n",
       "│    │    └─Sequential: 3-2              [2, 32, 288, 320]         552\n",
       "│    │    └─Sequential: 3-3              [2, 16, 288, 320]         544\n",
       "│    └─MBConvBlock: 2-6                  [2, 16, 288, 320]         --\n",
       "│    │    └─Sequential: 3-4              [2, 16, 288, 320]         176\n",
       "│    │    └─Sequential: 3-5              [2, 16, 288, 320]         148\n",
       "│    │    └─Sequential: 3-6              [2, 16, 288, 320]         288\n",
       "│    └─MBConvBlock: 2-7                  [2, 24, 144, 160]         --\n",
       "│    │    └─Sequential: 3-7              [2, 96, 288, 320]         1,728\n",
       "│    │    └─Sequential: 3-8              [2, 96, 144, 160]         1,056\n",
       "│    │    └─Sequential: 3-9              [2, 96, 144, 160]         4,728\n",
       "│    │    └─Sequential: 3-10             [2, 24, 144, 160]         2,352\n",
       "│    └─MBConvBlock: 2-8                  [2, 24, 144, 160]         --\n",
       "│    │    └─Sequential: 3-11             [2, 144, 144, 160]        3,744\n",
       "│    │    └─Sequential: 3-12             [2, 144, 144, 160]        1,584\n",
       "│    │    └─Sequential: 3-13             [2, 144, 144, 160]        10,548\n",
       "│    │    └─Sequential: 3-14             [2, 24, 144, 160]         3,504\n",
       "│    └─MBConvBlock: 2-9                  [2, 24, 144, 160]         --\n",
       "│    │    └─Sequential: 3-15             [2, 144, 144, 160]        3,744\n",
       "│    │    └─Sequential: 3-16             [2, 144, 144, 160]        1,584\n",
       "│    │    └─Sequential: 3-17             [2, 144, 144, 160]        10,548\n",
       "│    │    └─Sequential: 3-18             [2, 24, 144, 160]         3,504\n",
       "│    └─MBConvBlock: 2-10                 [2, 48, 72, 80]           --\n",
       "│    │    └─Sequential: 3-19             [2, 144, 144, 160]        3,744\n",
       "│    │    └─Sequential: 3-20             [2, 144, 72, 80]          3,888\n",
       "│    │    └─Sequential: 3-21             [2, 144, 72, 80]          10,548\n",
       "│    │    └─Sequential: 3-22             [2, 48, 72, 80]           7,008\n",
       "│    └─MBConvBlock: 2-11                 [2, 48, 72, 80]           --\n",
       "│    │    └─Sequential: 3-23             [2, 288, 72, 80]          14,400\n",
       "│    │    └─Sequential: 3-24             [2, 288, 72, 80]          7,776\n",
       "│    │    └─Sequential: 3-25             [2, 288, 72, 80]          41,832\n",
       "│    │    └─Sequential: 3-26             [2, 48, 72, 80]           13,920\n",
       "│    └─MBConvBlock: 2-12                 [2, 48, 72, 80]           --\n",
       "│    │    └─Sequential: 3-27             [2, 288, 72, 80]          14,400\n",
       "│    │    └─Sequential: 3-28             [2, 288, 72, 80]          7,776\n",
       "│    │    └─Sequential: 3-29             [2, 288, 72, 80]          41,832\n",
       "│    │    └─Sequential: 3-30             [2, 48, 72, 80]           13,920\n",
       "│    └─MBConvBlock: 2-13                 [2, 88, 36, 40]           --\n",
       "│    │    └─Sequential: 3-31             [2, 288, 72, 80]          14,400\n",
       "│    │    └─Sequential: 3-32             [2, 288, 36, 40]          3,168\n",
       "│    │    └─Sequential: 3-33             [2, 288, 36, 40]          41,832\n",
       "│    │    └─Sequential: 3-34             [2, 88, 36, 40]           25,520\n",
       "│    └─MBConvBlock: 2-14                 [2, 88, 36, 40]           --\n",
       "│    │    └─Sequential: 3-35             [2, 528, 36, 40]          47,520\n",
       "│    │    └─Sequential: 3-36             [2, 528, 36, 40]          5,808\n",
       "│    │    └─Sequential: 3-37             [2, 528, 36, 40]          140,052\n",
       "│    │    └─Sequential: 3-38             [2, 88, 36, 40]           46,640\n",
       "│    └─MBConvBlock: 2-15                 [2, 88, 36, 40]           --\n",
       "│    │    └─Sequential: 3-39             [2, 528, 36, 40]          47,520\n",
       "│    │    └─Sequential: 3-40             [2, 528, 36, 40]          5,808\n",
       "│    │    └─Sequential: 3-41             [2, 528, 36, 40]          140,052\n",
       "│    │    └─Sequential: 3-42             [2, 88, 36, 40]           46,640\n",
       "│    └─MBConvBlock: 2-16                 [2, 88, 36, 40]           --\n",
       "│    │    └─Sequential: 3-43             [2, 528, 36, 40]          47,520\n",
       "│    │    └─Sequential: 3-44             [2, 528, 36, 40]          5,808\n",
       "│    │    └─Sequential: 3-45             [2, 528, 36, 40]          140,052\n",
       "│    │    └─Sequential: 3-46             [2, 88, 36, 40]           46,640\n",
       "│    └─MBConvBlock: 2-17                 [2, 120, 36, 40]          --\n",
       "│    │    └─Sequential: 3-47             [2, 528, 36, 40]          47,520\n",
       "│    │    └─Sequential: 3-48             [2, 528, 36, 40]          14,256\n",
       "│    │    └─Sequential: 3-49             [2, 528, 36, 40]          140,052\n",
       "│    │    └─Sequential: 3-50             [2, 120, 36, 40]          63,600\n",
       "│    └─MBConvBlock: 2-18                 [2, 120, 36, 40]          --\n",
       "│    │    └─Sequential: 3-51             [2, 720, 36, 40]          87,840\n",
       "│    │    └─Sequential: 3-52             [2, 720, 36, 40]          19,440\n",
       "│    │    └─Sequential: 3-53             [2, 720, 36, 40]          260,100\n",
       "│    │    └─Sequential: 3-54             [2, 120, 36, 40]          86,640\n",
       "│    └─MBConvBlock: 2-19                 [2, 120, 36, 40]          --\n",
       "│    │    └─Sequential: 3-55             [2, 720, 36, 40]          87,840\n",
       "│    │    └─Sequential: 3-56             [2, 720, 36, 40]          19,440\n",
       "│    │    └─Sequential: 3-57             [2, 720, 36, 40]          260,100\n",
       "│    │    └─Sequential: 3-58             [2, 120, 36, 40]          86,640\n",
       "│    └─MBConvBlock: 2-20                 [2, 120, 36, 40]          --\n",
       "│    │    └─Sequential: 3-59             [2, 720, 36, 40]          87,840\n",
       "│    │    └─Sequential: 3-60             [2, 720, 36, 40]          19,440\n",
       "│    │    └─Sequential: 3-61             [2, 720, 36, 40]          260,100\n",
       "│    │    └─Sequential: 3-62             [2, 120, 36, 40]          86,640\n",
       "│    └─MBConvBlock: 2-21                 [2, 208, 18, 20]          --\n",
       "│    │    └─Sequential: 3-63             [2, 720, 36, 40]          87,840\n",
       "│    │    └─Sequential: 3-64             [2, 720, 18, 20]          19,440\n",
       "│    │    └─Sequential: 3-65             [2, 720, 18, 20]          260,100\n",
       "│    │    └─Sequential: 3-66             [2, 208, 18, 20]          150,176\n",
       "│    └─MBConvBlock: 2-22                 [2, 208, 18, 20]          --\n",
       "│    │    └─Sequential: 3-67             [2, 1248, 18, 20]         262,080\n",
       "│    │    └─Sequential: 3-68             [2, 1248, 18, 20]         33,696\n",
       "│    │    └─Sequential: 3-69             [2, 1248, 18, 20]         780,312\n",
       "│    │    └─Sequential: 3-70             [2, 208, 18, 20]          260,000\n",
       "│    └─MBConvBlock: 2-23                 [2, 208, 18, 20]          --\n",
       "│    │    └─Sequential: 3-71             [2, 1248, 18, 20]         262,080\n",
       "│    │    └─Sequential: 3-72             [2, 1248, 18, 20]         33,696\n",
       "│    │    └─Sequential: 3-73             [2, 1248, 18, 20]         780,312\n",
       "│    │    └─Sequential: 3-74             [2, 208, 18, 20]          260,000\n",
       "│    └─MBConvBlock: 2-24                 [2, 208, 18, 20]          --\n",
       "│    │    └─Sequential: 3-75             [2, 1248, 18, 20]         262,080\n",
       "│    │    └─Sequential: 3-76             [2, 1248, 18, 20]         33,696\n",
       "│    │    └─Sequential: 3-77             [2, 1248, 18, 20]         780,312\n",
       "│    │    └─Sequential: 3-78             [2, 208, 18, 20]          260,000\n",
       "│    └─MBConvBlock: 2-25                 [2, 208, 18, 20]          --\n",
       "│    │    └─Sequential: 3-79             [2, 1248, 18, 20]         262,080\n",
       "│    │    └─Sequential: 3-80             [2, 1248, 18, 20]         33,696\n",
       "│    │    └─Sequential: 3-81             [2, 1248, 18, 20]         780,312\n",
       "│    │    └─Sequential: 3-82             [2, 208, 18, 20]          260,000\n",
       "│    └─MBConvBlock: 2-26                 [2, 352, 18, 20]          --\n",
       "│    │    └─Sequential: 3-83             [2, 1248, 18, 20]         262,080\n",
       "│    │    └─Sequential: 3-84             [2, 1248, 18, 20]         13,728\n",
       "│    │    └─Sequential: 3-85             [2, 1248, 18, 20]         780,312\n",
       "│    │    └─Sequential: 3-86             [2, 352, 18, 20]          440,000\n",
       "│    └─MBConvBlock: 2-27                 [2, 352, 18, 20]          --\n",
       "│    │    └─Sequential: 3-87             [2, 2112, 18, 20]         747,648\n",
       "│    │    └─Sequential: 3-88             [2, 2112, 18, 20]         23,232\n",
       "│    │    └─Sequential: 3-89             [2, 2112, 18, 20]         2,232,912\n",
       "│    │    └─Sequential: 3-90             [2, 352, 18, 20]          744,128\n",
       "├─Sequential: 1-3                        [2, 1408, 18, 20]         --\n",
       "│    └─Conv2d: 2-28                      [2, 1408, 18, 20]         495,616\n",
       "│    └─BatchNorm2d: 2-29                 [2, 1408, 18, 20]         2,816\n",
       "==========================================================================================\n",
       "Total params: 14,268,928\n",
       "Trainable params: 14,268,928\n",
       "Non-trainable params: 0\n",
       "Total mult-adds (G): 20.53\n",
       "==========================================================================================\n",
       "Input size (MB): 2.95\n",
       "Forward/backward pass size (MB): 2847.17\n",
       "Params size (MB): 57.08\n",
       "Estimated Total Size (MB): 2907.19\n",
       "=========================================================================================="
      ]
     },
     "execution_count": 16,
     "metadata": {},
     "output_type": "execute_result"
    }
   ],
   "source": [
    "summary(net, (2, 1, 576, 640), device=\"cpu\")"
   ]
  },
  {
   "cell_type": "code",
   "execution_count": 11,
   "id": "3ef95a63-7044-45bf-a085-faf5ea0c03ec",
   "metadata": {},
   "outputs": [
    {
     "ename": "TypeError",
     "evalue": "'EfficientNet' object is not subscriptable",
     "output_type": "error",
     "traceback": [
      "\u001b[0;31m---------------------------------------------------------------------------\u001b[0m",
      "\u001b[0;31mTypeError\u001b[0m                                 Traceback (most recent call last)",
      "\u001b[0;32m/tmp/ipykernel_2800/4064962505.py\u001b[0m in \u001b[0;36m<module>\u001b[0;34m\u001b[0m\n\u001b[0;32m----> 1\u001b[0;31m \u001b[0mnet\u001b[0m\u001b[0;34m[\u001b[0m\u001b[0;34m:\u001b[0m\u001b[0;34m-\u001b[0m\u001b[0;36m2\u001b[0m\u001b[0;34m]\u001b[0m\u001b[0;34m\u001b[0m\u001b[0;34m\u001b[0m\u001b[0m\n\u001b[0m",
      "\u001b[0;31mTypeError\u001b[0m: 'EfficientNet' object is not subscriptable"
     ]
    }
   ],
   "source": [
    "net[:-2]"
   ]
  },
  {
   "cell_type": "code",
   "execution_count": null,
   "id": "62ca0d97-625c-474b-8d6c-d0caba79e198",
   "metadata": {},
   "outputs": [],
   "source": []
  }
 ],
 "metadata": {
  "kernelspec": {
   "display_name": "Python 3 (ipykernel)",
   "language": "python",
   "name": "python3"
  },
  "language_info": {
   "codemirror_mode": {
    "name": "ipython",
    "version": 3
   },
   "file_extension": ".py",
   "mimetype": "text/x-python",
   "name": "python",
   "nbconvert_exporter": "python",
   "pygments_lexer": "ipython3",
   "version": "3.9.7"
  }
 },
 "nbformat": 4,
 "nbformat_minor": 5
}
