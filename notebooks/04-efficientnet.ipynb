{
 "cells": [
  {
   "cell_type": "code",
   "execution_count": 2,
   "id": "7c02ae76-b540-4b16-9492-e9210b3b9249",
   "metadata": {},
   "outputs": [],
   "source": [
    "import os\n",
    "os.environ['CUDA_VISIBLE_DEVICE'] = ''\n",
    "import random\n",
    "\n",
    "%matplotlib inline\n",
    "import matplotlib.pyplot as plt\n",
    "\n",
    "import numpy as np\n",
    "from omegaconf import OmegaConf\n",
    "\n",
    "%load_ext autoreload\n",
    "%autoreload 2\n",
    "\n",
    "from importlib.util import find_spec\n",
    "if find_spec(\"text_recognizer\") is None:\n",
    "    import sys\n",
    "    sys.path.append('..')"
   ]
  },
  {
   "cell_type": "code",
   "execution_count": 3,
   "id": "ccdb6dde-47e5-429a-88f2-0764fb7e259a",
   "metadata": {},
   "outputs": [],
   "source": [
    "from hydra import compose, initialize\n",
    "from omegaconf import OmegaConf\n",
    "from hydra.utils import instantiate"
   ]
  },
  {
   "cell_type": "code",
   "execution_count": 4,
   "id": "3cf50475-39f2-4642-a7d1-5bcbc0a036f7",
   "metadata": {},
   "outputs": [],
   "source": [
    "path = \"../training/conf/network/encoder/efficientnet.yaml\""
   ]
  },
  {
   "cell_type": "code",
   "execution_count": 5,
   "id": "e52ecb01-c975-4e55-925d-1182c7aea473",
   "metadata": {},
   "outputs": [],
   "source": [
    "with open(path, \"rb\") as f:\n",
    "    cfg = OmegaConf.load(f)"
   ]
  },
  {
   "cell_type": "code",
   "execution_count": 6,
   "id": "f939aa37-7b1d-45cc-885c-323c4540bda1",
   "metadata": {},
   "outputs": [
    {
     "data": {
      "text/plain": [
       "{'_target_': 'text_recognizer.networks.encoders.efficientnet.EfficientNet', 'arch': 'b0', 'out_channels': 1280, 'stochastic_dropout_rate': 0.2, 'bn_momentum': 0.99, 'bn_eps': 0.001}"
      ]
     },
     "execution_count": 6,
     "metadata": {},
     "output_type": "execute_result"
    }
   ],
   "source": [
    "cfg"
   ]
  },
  {
   "cell_type": "code",
   "execution_count": 7,
   "id": "aaeab329-aeb0-4a1b-aa35-5a2aab81b1d0",
   "metadata": {},
   "outputs": [],
   "source": [
    "net = instantiate(cfg)"
   ]
  },
  {
   "cell_type": "code",
   "execution_count": 8,
   "id": "618b997c-e6a6-4487-b70c-9d260cb556d3",
   "metadata": {},
   "outputs": [],
   "source": [
    "from torchinfo import summary"
   ]
  },
  {
   "cell_type": "code",
   "execution_count": 9,
   "id": "25759b7b-8deb-4163-b75d-a1357c9fe88f",
   "metadata": {},
   "outputs": [
    {
     "data": {
      "text/plain": [
       "==========================================================================================\n",
       "Layer (type:depth-idx)                   Output Shape              Param #\n",
       "==========================================================================================\n",
       "EfficientNet                             --                        --\n",
       "├─ModuleList: 1-1                        --                        --\n",
       "├─Sequential: 1-2                        [2, 32, 288, 320]         --\n",
       "│    └─ZeroPad2d: 2-1                    [2, 1, 577, 641]          --\n",
       "│    └─Conv2d: 2-2                       [2, 32, 288, 320]         288\n",
       "│    └─BatchNorm2d: 2-3                  [2, 32, 288, 320]         64\n",
       "│    └─Mish: 2-4                         [2, 32, 288, 320]         --\n",
       "├─ModuleList: 1-1                        --                        --\n",
       "│    └─MBConvBlock: 2-5                  [2, 16, 288, 320]         --\n",
       "│    │    └─Sequential: 3-1              [2, 32, 288, 320]         352\n",
       "│    │    └─Sequential: 3-2              [2, 32, 288, 320]         552\n",
       "│    │    └─Sequential: 3-3              [2, 16, 288, 320]         544\n",
       "│    └─MBConvBlock: 2-6                  [2, 24, 144, 160]         --\n",
       "│    │    └─Sequential: 3-4              [2, 96, 288, 320]         1,728\n",
       "│    │    └─Sequential: 3-5              [2, 96, 144, 160]         1,056\n",
       "│    │    └─Sequential: 3-6              [2, 96, 144, 160]         4,728\n",
       "│    │    └─Sequential: 3-7              [2, 24, 144, 160]         2,352\n",
       "│    └─MBConvBlock: 2-7                  [2, 24, 144, 160]         --\n",
       "│    │    └─Sequential: 3-8              [2, 144, 144, 160]        3,744\n",
       "│    │    └─Sequential: 3-9              [2, 144, 144, 160]        1,584\n",
       "│    │    └─Sequential: 3-10             [2, 144, 144, 160]        10,548\n",
       "│    │    └─Sequential: 3-11             [2, 24, 144, 160]         3,504\n",
       "│    └─MBConvBlock: 2-8                  [2, 40, 72, 80]           --\n",
       "│    │    └─Sequential: 3-12             [2, 144, 144, 160]        3,744\n",
       "│    │    └─Sequential: 3-13             [2, 144, 72, 80]          3,888\n",
       "│    │    └─Sequential: 3-14             [2, 144, 72, 80]          10,548\n",
       "│    │    └─Sequential: 3-15             [2, 40, 72, 80]           5,840\n",
       "│    └─MBConvBlock: 2-9                  [2, 40, 72, 80]           --\n",
       "│    │    └─Sequential: 3-16             [2, 240, 72, 80]          10,080\n",
       "│    │    └─Sequential: 3-17             [2, 240, 72, 80]          6,480\n",
       "│    │    └─Sequential: 3-18             [2, 240, 72, 80]          29,100\n",
       "│    │    └─Sequential: 3-19             [2, 40, 72, 80]           9,680\n",
       "│    └─MBConvBlock: 2-10                 [2, 80, 36, 40]           --\n",
       "│    │    └─Sequential: 3-20             [2, 240, 72, 80]          10,080\n",
       "│    │    └─Sequential: 3-21             [2, 240, 36, 40]          2,640\n",
       "│    │    └─Sequential: 3-22             [2, 240, 36, 40]          29,100\n",
       "│    │    └─Sequential: 3-23             [2, 80, 36, 40]           19,360\n",
       "│    └─MBConvBlock: 2-11                 [2, 80, 36, 40]           --\n",
       "│    │    └─Sequential: 3-24             [2, 480, 36, 40]          39,360\n",
       "│    │    └─Sequential: 3-25             [2, 480, 36, 40]          5,280\n",
       "│    │    └─Sequential: 3-26             [2, 480, 36, 40]          115,800\n",
       "│    │    └─Sequential: 3-27             [2, 80, 36, 40]           38,560\n",
       "│    └─MBConvBlock: 2-12                 [2, 80, 36, 40]           --\n",
       "│    │    └─Sequential: 3-28             [2, 480, 36, 40]          39,360\n",
       "│    │    └─Sequential: 3-29             [2, 480, 36, 40]          5,280\n",
       "│    │    └─Sequential: 3-30             [2, 480, 36, 40]          115,800\n",
       "│    │    └─Sequential: 3-31             [2, 80, 36, 40]           38,560\n",
       "│    └─MBConvBlock: 2-13                 [2, 112, 36, 40]          --\n",
       "│    │    └─Sequential: 3-32             [2, 480, 36, 40]          39,360\n",
       "│    │    └─Sequential: 3-33             [2, 480, 36, 40]          12,960\n",
       "│    │    └─Sequential: 3-34             [2, 480, 36, 40]          115,800\n",
       "│    │    └─Sequential: 3-35             [2, 112, 36, 40]          53,984\n",
       "│    └─MBConvBlock: 2-14                 [2, 112, 36, 40]          --\n",
       "│    │    └─Sequential: 3-36             [2, 672, 36, 40]          76,608\n",
       "│    │    └─Sequential: 3-37             [2, 672, 36, 40]          18,144\n",
       "│    │    └─Sequential: 3-38             [2, 672, 36, 40]          226,632\n",
       "│    │    └─Sequential: 3-39             [2, 112, 36, 40]          75,488\n",
       "│    └─MBConvBlock: 2-15                 [2, 112, 36, 40]          --\n",
       "│    │    └─Sequential: 3-40             [2, 672, 36, 40]          76,608\n",
       "│    │    └─Sequential: 3-41             [2, 672, 36, 40]          18,144\n",
       "│    │    └─Sequential: 3-42             [2, 672, 36, 40]          226,632\n",
       "│    │    └─Sequential: 3-43             [2, 112, 36, 40]          75,488\n",
       "│    └─MBConvBlock: 2-16                 [2, 192, 18, 20]          --\n",
       "│    │    └─Sequential: 3-44             [2, 672, 36, 40]          76,608\n",
       "│    │    └─Sequential: 3-45             [2, 672, 18, 20]          18,144\n",
       "│    │    └─Sequential: 3-46             [2, 672, 18, 20]          226,632\n",
       "│    │    └─Sequential: 3-47             [2, 192, 18, 20]          129,408\n",
       "│    └─MBConvBlock: 2-17                 [2, 192, 18, 20]          --\n",
       "│    │    └─Sequential: 3-48             [2, 1152, 18, 20]         223,488\n",
       "│    │    └─Sequential: 3-49             [2, 1152, 18, 20]         31,104\n",
       "│    │    └─Sequential: 3-50             [2, 1152, 18, 20]         664,992\n",
       "│    │    └─Sequential: 3-51             [2, 192, 18, 20]          221,568\n",
       "│    └─MBConvBlock: 2-18                 [2, 192, 18, 20]          --\n",
       "│    │    └─Sequential: 3-52             [2, 1152, 18, 20]         223,488\n",
       "│    │    └─Sequential: 3-53             [2, 1152, 18, 20]         31,104\n",
       "│    │    └─Sequential: 3-54             [2, 1152, 18, 20]         664,992\n",
       "│    │    └─Sequential: 3-55             [2, 192, 18, 20]          221,568\n",
       "│    └─MBConvBlock: 2-19                 [2, 192, 18, 20]          --\n",
       "│    │    └─Sequential: 3-56             [2, 1152, 18, 20]         223,488\n",
       "│    │    └─Sequential: 3-57             [2, 1152, 18, 20]         31,104\n",
       "│    │    └─Sequential: 3-58             [2, 1152, 18, 20]         664,992\n",
       "│    │    └─Sequential: 3-59             [2, 192, 18, 20]          221,568\n",
       "│    └─MBConvBlock: 2-20                 [2, 320, 18, 20]          --\n",
       "│    │    └─Sequential: 3-60             [2, 1152, 18, 20]         223,488\n",
       "│    │    └─Sequential: 3-61             [2, 1152, 18, 20]         12,672\n",
       "│    │    └─Sequential: 3-62             [2, 1152, 18, 20]         664,992\n",
       "│    │    └─Sequential: 3-63             [2, 320, 18, 20]          369,280\n",
       "├─Sequential: 1-3                        [2, 1280, 18, 20]         --\n",
       "│    └─Conv2d: 2-21                      [2, 1280, 18, 20]         409,600\n",
       "│    └─BatchNorm2d: 2-22                 [2, 1280, 18, 20]         2,560\n",
       "==========================================================================================\n",
       "Total params: 7,142,272\n",
       "Trainable params: 7,142,272\n",
       "Non-trainable params: 0\n",
       "Total mult-adds (G): 11.27\n",
       "==========================================================================================\n",
       "Input size (MB): 2.95\n",
       "Forward/backward pass size (MB): 1922.96\n",
       "Params size (MB): 28.57\n",
       "Estimated Total Size (MB): 1954.48\n",
       "=========================================================================================="
      ]
     },
     "execution_count": 9,
     "metadata": {},
     "output_type": "execute_result"
    }
   ],
   "source": [
    "summary(net, (2, 1, 576, 640), device=\"cpu\")"
   ]
  },
  {
   "cell_type": "code",
   "execution_count": 11,
   "id": "3ef95a63-7044-45bf-a085-faf5ea0c03ec",
   "metadata": {},
   "outputs": [
    {
     "ename": "TypeError",
     "evalue": "'EfficientNet' object is not subscriptable",
     "output_type": "error",
     "traceback": [
      "\u001b[0;31m---------------------------------------------------------------------------\u001b[0m",
      "\u001b[0;31mTypeError\u001b[0m                                 Traceback (most recent call last)",
      "\u001b[0;32m/tmp/ipykernel_2800/4064962505.py\u001b[0m in \u001b[0;36m<module>\u001b[0;34m\u001b[0m\n\u001b[0;32m----> 1\u001b[0;31m \u001b[0mnet\u001b[0m\u001b[0;34m[\u001b[0m\u001b[0;34m:\u001b[0m\u001b[0;34m-\u001b[0m\u001b[0;36m2\u001b[0m\u001b[0;34m]\u001b[0m\u001b[0;34m\u001b[0m\u001b[0;34m\u001b[0m\u001b[0m\n\u001b[0m",
      "\u001b[0;31mTypeError\u001b[0m: 'EfficientNet' object is not subscriptable"
     ]
    }
   ],
   "source": [
    "net[:-2]"
   ]
  },
  {
   "cell_type": "code",
   "execution_count": null,
   "id": "62ca0d97-625c-474b-8d6c-d0caba79e198",
   "metadata": {},
   "outputs": [],
   "source": []
  }
 ],
 "metadata": {
  "kernelspec": {
   "display_name": "Python 3 (ipykernel)",
   "language": "python",
   "name": "python3"
  },
  "language_info": {
   "codemirror_mode": {
    "name": "ipython",
    "version": 3
   },
   "file_extension": ".py",
   "mimetype": "text/x-python",
   "name": "python",
   "nbconvert_exporter": "python",
   "pygments_lexer": "ipython3",
   "version": "3.9.7"
  }
 },
 "nbformat": 4,
 "nbformat_minor": 5
}
