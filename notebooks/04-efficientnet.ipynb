{
 "cells": [
  {
   "cell_type": "code",
   "execution_count": 1,
   "id": "7c02ae76-b540-4b16-9492-e9210b3b9249",
   "metadata": {},
   "outputs": [],
   "source": [
    "import os\n",
    "os.environ['CUDA_VISIBLE_DEVICE'] = ''\n",
    "import random\n",
    "\n",
    "%matplotlib inline\n",
    "import matplotlib.pyplot as plt\n",
    "\n",
    "import numpy as np\n",
    "from omegaconf import OmegaConf\n",
    "\n",
    "%load_ext autoreload\n",
    "%autoreload 2\n",
    "\n",
    "from importlib.util import find_spec\n",
    "if find_spec(\"text_recognizer\") is None:\n",
    "    import sys\n",
    "    sys.path.append('..')"
   ]
  },
  {
   "cell_type": "code",
   "execution_count": 2,
   "id": "ccdb6dde-47e5-429a-88f2-0764fb7e259a",
   "metadata": {},
   "outputs": [],
   "source": [
    "from hydra import compose, initialize\n",
    "from omegaconf import OmegaConf\n",
    "from hydra.utils import instantiate"
   ]
  },
  {
   "cell_type": "code",
   "execution_count": 3,
   "id": "3cf50475-39f2-4642-a7d1-5bcbc0a036f7",
   "metadata": {},
   "outputs": [],
   "source": [
    "path = \"../training/conf/network/encoder/efficientnet.yaml\""
   ]
  },
  {
   "cell_type": "code",
   "execution_count": 4,
   "id": "e52ecb01-c975-4e55-925d-1182c7aea473",
   "metadata": {},
   "outputs": [],
   "source": [
    "with open(path, \"rb\") as f:\n",
    "    cfg = OmegaConf.load(f)"
   ]
  },
  {
   "cell_type": "code",
   "execution_count": 5,
   "id": "f939aa37-7b1d-45cc-885c-323c4540bda1",
   "metadata": {},
   "outputs": [
    {
     "data": {
      "text/plain": [
       "{'_target_': 'text_recognizer.networks.encoders.efficientnet.EfficientNet', 'arch': 'b0', 'stochastic_dropout_rate': 0.2, 'bn_momentum': 0.99, 'bn_eps': 0.001}"
      ]
     },
     "execution_count": 5,
     "metadata": {},
     "output_type": "execute_result"
    }
   ],
   "source": [
    "cfg"
   ]
  },
  {
   "cell_type": "code",
   "execution_count": 15,
   "id": "42caaae5-7ee6-43fe-97eb-46c2a6915739",
   "metadata": {},
   "outputs": [],
   "source": [
    "cfg.depth = 6"
   ]
  },
  {
   "cell_type": "code",
   "execution_count": 16,
   "id": "aaeab329-aeb0-4a1b-aa35-5a2aab81b1d0",
   "metadata": {},
   "outputs": [],
   "source": [
    "net = instantiate(cfg)"
   ]
  },
  {
   "cell_type": "code",
   "execution_count": 17,
   "id": "618b997c-e6a6-4487-b70c-9d260cb556d3",
   "metadata": {},
   "outputs": [],
   "source": [
    "from torchinfo import summary"
   ]
  },
  {
   "cell_type": "code",
   "execution_count": 18,
   "id": "25759b7b-8deb-4163-b75d-a1357c9fe88f",
   "metadata": {},
   "outputs": [
    {
     "data": {
      "text/plain": [
       "===============================================================================================\n",
       "Layer (type:depth-idx)                        Output Shape              Param #\n",
       "===============================================================================================\n",
       "EfficientNet                                  --                        --\n",
       "├─ModuleList: 1-1                             --                        --\n",
       "├─Sequential: 1-2                             [2, 32, 28, 512]          --\n",
       "│    └─ZeroPad2d: 2-1                         [2, 1, 57, 1025]          --\n",
       "│    └─Conv2d: 2-2                            [2, 32, 28, 512]          288\n",
       "│    └─BatchNorm2d: 2-3                       [2, 32, 28, 512]          64\n",
       "│    └─Mish: 2-4                              [2, 32, 28, 512]          --\n",
       "├─ModuleList: 1-1                             --                        --\n",
       "│    └─MBConvBlock: 2-5                       [2, 16, 28, 512]          --\n",
       "│    │    └─Depthwise: 3-1                    [2, 32, 28, 512]          --\n",
       "│    │    │    └─Sequential: 4-1              [2, 32, 28, 512]          352\n",
       "│    │    └─SqueezeAndExcite: 3-2             [2, 32, 28, 512]          --\n",
       "│    │    │    └─Sequential: 4-2              [2, 32, 28, 512]          552\n",
       "│    │    └─Pointwise: 3-3                    [2, 16, 28, 512]          --\n",
       "│    │    │    └─Sequential: 4-3              [2, 16, 28, 512]          544\n",
       "│    └─MBConvBlock: 2-6                       [2, 24, 14, 256]          --\n",
       "│    │    └─InvertedBottleneck: 3-4           [2, 96, 28, 512]          --\n",
       "│    │    │    └─Sequential: 4-4              [2, 96, 28, 512]          1,728\n",
       "│    │    └─Depthwise: 3-5                    [2, 96, 14, 256]          --\n",
       "│    │    │    └─Sequential: 4-5              [2, 96, 14, 256]          1,056\n",
       "│    │    └─SqueezeAndExcite: 3-6             [2, 96, 14, 256]          --\n",
       "│    │    │    └─Sequential: 4-6              [2, 96, 14, 256]          868\n",
       "│    │    └─Pointwise: 3-7                    [2, 24, 14, 256]          --\n",
       "│    │    │    └─Sequential: 4-7              [2, 24, 14, 256]          2,352\n",
       "│    └─MBConvBlock: 2-7                       [2, 24, 14, 256]          --\n",
       "│    │    └─InvertedBottleneck: 3-8           [2, 144, 14, 256]         --\n",
       "│    │    │    └─Sequential: 4-8              [2, 144, 14, 256]         3,744\n",
       "│    │    └─Depthwise: 3-9                    [2, 144, 14, 256]         --\n",
       "│    │    │    └─Sequential: 4-9              [2, 144, 14, 256]         1,584\n",
       "│    │    └─SqueezeAndExcite: 3-10            [2, 144, 14, 256]         --\n",
       "│    │    │    └─Sequential: 4-10             [2, 144, 14, 256]         1,878\n",
       "│    │    └─Pointwise: 3-11                   [2, 24, 14, 256]          --\n",
       "│    │    │    └─Sequential: 4-11             [2, 24, 14, 256]          3,504\n",
       "│    └─MBConvBlock: 2-8                       [2, 40, 7, 128]           --\n",
       "│    │    └─InvertedBottleneck: 3-12          [2, 144, 14, 256]         --\n",
       "│    │    │    └─Sequential: 4-12             [2, 144, 14, 256]         3,744\n",
       "│    │    └─Depthwise: 3-13                   [2, 144, 7, 128]          --\n",
       "│    │    │    └─Sequential: 4-13             [2, 144, 7, 128]          3,888\n",
       "│    │    └─SqueezeAndExcite: 3-14            [2, 144, 7, 128]          --\n",
       "│    │    │    └─Sequential: 4-14             [2, 144, 7, 128]          1,878\n",
       "│    │    └─Pointwise: 3-15                   [2, 40, 7, 128]           --\n",
       "│    │    │    └─Sequential: 4-15             [2, 40, 7, 128]           5,840\n",
       "│    └─MBConvBlock: 2-9                       [2, 40, 7, 128]           --\n",
       "│    │    └─InvertedBottleneck: 3-16          [2, 240, 7, 128]          --\n",
       "│    │    │    └─Sequential: 4-16             [2, 240, 7, 128]          10,080\n",
       "│    │    └─Depthwise: 3-17                   [2, 240, 7, 128]          --\n",
       "│    │    │    └─Sequential: 4-17             [2, 240, 7, 128]          6,480\n",
       "│    │    └─SqueezeAndExcite: 3-18            [2, 240, 7, 128]          --\n",
       "│    │    │    └─Sequential: 4-18             [2, 240, 7, 128]          5,050\n",
       "│    │    └─Pointwise: 3-19                   [2, 40, 7, 128]           --\n",
       "│    │    │    └─Sequential: 4-19             [2, 40, 7, 128]           9,680\n",
       "│    └─MBConvBlock: 2-10                      [2, 80, 3, 64]            --\n",
       "│    │    └─InvertedBottleneck: 3-20          [2, 240, 7, 128]          --\n",
       "│    │    │    └─Sequential: 4-20             [2, 240, 7, 128]          10,080\n",
       "│    │    └─Depthwise: 3-21                   [2, 240, 3, 64]           --\n",
       "│    │    │    └─Sequential: 4-21             [2, 240, 3, 64]           2,640\n",
       "│    │    └─SqueezeAndExcite: 3-22            [2, 240, 3, 64]           --\n",
       "│    │    │    └─Sequential: 4-22             [2, 240, 3, 64]           5,050\n",
       "│    │    └─Pointwise: 3-23                   [2, 80, 3, 64]            --\n",
       "│    │    │    └─Sequential: 4-23             [2, 80, 3, 64]            19,360\n",
       "│    └─MBConvBlock: 2-11                      [2, 80, 3, 64]            --\n",
       "│    │    └─InvertedBottleneck: 3-24          [2, 480, 3, 64]           --\n",
       "│    │    │    └─Sequential: 4-24             [2, 480, 3, 64]           39,360\n",
       "│    │    └─Depthwise: 3-25                   [2, 480, 3, 64]           --\n",
       "│    │    │    └─Sequential: 4-25             [2, 480, 3, 64]           5,280\n",
       "│    │    └─SqueezeAndExcite: 3-26            [2, 480, 3, 64]           --\n",
       "│    │    │    └─Sequential: 4-26             [2, 480, 3, 64]           19,700\n",
       "│    │    └─Pointwise: 3-27                   [2, 80, 3, 64]            --\n",
       "│    │    │    └─Sequential: 4-27             [2, 80, 3, 64]            38,560\n",
       "│    └─MBConvBlock: 2-12                      [2, 80, 3, 64]            --\n",
       "│    │    └─InvertedBottleneck: 3-28          [2, 480, 3, 64]           --\n",
       "│    │    │    └─Sequential: 4-28             [2, 480, 3, 64]           39,360\n",
       "│    │    └─Depthwise: 3-29                   [2, 480, 3, 64]           --\n",
       "│    │    │    └─Sequential: 4-29             [2, 480, 3, 64]           5,280\n",
       "│    │    └─SqueezeAndExcite: 3-30            [2, 480, 3, 64]           --\n",
       "│    │    │    └─Sequential: 4-30             [2, 480, 3, 64]           19,700\n",
       "│    │    └─Pointwise: 3-31                   [2, 80, 3, 64]            --\n",
       "│    │    │    └─Sequential: 4-31             [2, 80, 3, 64]            38,560\n",
       "│    └─MBConvBlock: 2-13                      [2, 112, 3, 64]           --\n",
       "│    │    └─InvertedBottleneck: 3-32          [2, 480, 3, 64]           --\n",
       "│    │    │    └─Sequential: 4-32             [2, 480, 3, 64]           39,360\n",
       "│    │    └─Depthwise: 3-33                   [2, 480, 3, 64]           --\n",
       "│    │    │    └─Sequential: 4-33             [2, 480, 3, 64]           12,960\n",
       "│    │    └─SqueezeAndExcite: 3-34            [2, 480, 3, 64]           --\n",
       "│    │    │    └─Sequential: 4-34             [2, 480, 3, 64]           19,700\n",
       "│    │    └─Pointwise: 3-35                   [2, 112, 3, 64]           --\n",
       "│    │    │    └─Sequential: 4-35             [2, 112, 3, 64]           53,984\n",
       "│    └─MBConvBlock: 2-14                      [2, 112, 3, 64]           --\n",
       "│    │    └─InvertedBottleneck: 3-36          [2, 672, 3, 64]           --\n",
       "│    │    │    └─Sequential: 4-36             [2, 672, 3, 64]           76,608\n",
       "│    │    └─Depthwise: 3-37                   [2, 672, 3, 64]           --\n",
       "│    │    │    └─Sequential: 4-37             [2, 672, 3, 64]           18,144\n",
       "│    │    └─SqueezeAndExcite: 3-38            [2, 672, 3, 64]           --\n",
       "│    │    │    └─Sequential: 4-38             [2, 672, 3, 64]           38,332\n",
       "│    │    └─Pointwise: 3-39                   [2, 112, 3, 64]           --\n",
       "│    │    │    └─Sequential: 4-39             [2, 112, 3, 64]           75,488\n",
       "│    └─MBConvBlock: 2-15                      [2, 112, 3, 64]           --\n",
       "│    │    └─InvertedBottleneck: 3-40          [2, 672, 3, 64]           --\n",
       "│    │    │    └─Sequential: 4-40             [2, 672, 3, 64]           76,608\n",
       "│    │    └─Depthwise: 3-41                   [2, 672, 3, 64]           --\n",
       "│    │    │    └─Sequential: 4-41             [2, 672, 3, 64]           18,144\n",
       "│    │    └─SqueezeAndExcite: 3-42            [2, 672, 3, 64]           --\n",
       "│    │    │    └─Sequential: 4-42             [2, 672, 3, 64]           38,332\n",
       "│    │    └─Pointwise: 3-43                   [2, 112, 3, 64]           --\n",
       "│    │    │    └─Sequential: 4-43             [2, 112, 3, 64]           75,488\n",
       "│    └─MBConvBlock: 2-16                      [2, 192, 1, 32]           --\n",
       "│    │    └─InvertedBottleneck: 3-44          [2, 672, 3, 64]           --\n",
       "│    │    │    └─Sequential: 4-44             [2, 672, 3, 64]           76,608\n",
       "│    │    └─Depthwise: 3-45                   [2, 672, 1, 32]           --\n",
       "│    │    │    └─Sequential: 4-45             [2, 672, 1, 32]           18,144\n",
       "│    │    └─SqueezeAndExcite: 3-46            [2, 672, 1, 32]           --\n",
       "│    │    │    └─Sequential: 4-46             [2, 672, 1, 32]           38,332\n",
       "│    │    └─Pointwise: 3-47                   [2, 192, 1, 32]           --\n",
       "│    │    │    └─Sequential: 4-47             [2, 192, 1, 32]           129,408\n",
       "│    └─MBConvBlock: 2-17                      [2, 192, 1, 32]           --\n",
       "│    │    └─InvertedBottleneck: 3-48          [2, 1152, 1, 32]          --\n",
       "│    │    │    └─Sequential: 4-48             [2, 1152, 1, 32]          223,488\n",
       "│    │    └─Depthwise: 3-49                   [2, 1152, 1, 32]          --\n",
       "│    │    │    └─Sequential: 4-49             [2, 1152, 1, 32]          31,104\n",
       "│    │    └─SqueezeAndExcite: 3-50            [2, 1152, 1, 32]          --\n",
       "│    │    │    └─Sequential: 4-50             [2, 1152, 1, 32]          111,792\n",
       "│    │    └─Pointwise: 3-51                   [2, 192, 1, 32]           --\n",
       "│    │    │    └─Sequential: 4-51             [2, 192, 1, 32]           221,568\n",
       "│    └─MBConvBlock: 2-18                      [2, 192, 1, 32]           --\n",
       "│    │    └─InvertedBottleneck: 3-52          [2, 1152, 1, 32]          --\n",
       "│    │    │    └─Sequential: 4-52             [2, 1152, 1, 32]          223,488\n",
       "│    │    └─Depthwise: 3-53                   [2, 1152, 1, 32]          --\n",
       "│    │    │    └─Sequential: 4-53             [2, 1152, 1, 32]          31,104\n",
       "│    │    └─SqueezeAndExcite: 3-54            [2, 1152, 1, 32]          --\n",
       "│    │    │    └─Sequential: 4-54             [2, 1152, 1, 32]          111,792\n",
       "│    │    └─Pointwise: 3-55                   [2, 192, 1, 32]           --\n",
       "│    │    │    └─Sequential: 4-55             [2, 192, 1, 32]           221,568\n",
       "│    └─MBConvBlock: 2-19                      [2, 192, 1, 32]           --\n",
       "│    │    └─InvertedBottleneck: 3-56          [2, 1152, 1, 32]          --\n",
       "│    │    │    └─Sequential: 4-56             [2, 1152, 1, 32]          223,488\n",
       "│    │    └─Depthwise: 3-57                   [2, 1152, 1, 32]          --\n",
       "│    │    │    └─Sequential: 4-57             [2, 1152, 1, 32]          31,104\n",
       "│    │    └─SqueezeAndExcite: 3-58            [2, 1152, 1, 32]          --\n",
       "│    │    │    └─Sequential: 4-58             [2, 1152, 1, 32]          111,792\n",
       "│    │    └─Pointwise: 3-59                   [2, 192, 1, 32]           --\n",
       "│    │    │    └─Sequential: 4-59             [2, 192, 1, 32]           221,568\n",
       "├─Sequential: 1-3                             [2, 1280, 1, 32]          --\n",
       "│    └─Conv2d: 2-20                           [2, 1280, 1, 32]          245,760\n",
       "│    └─BatchNorm2d: 2-21                      [2, 1280, 1, 32]          2,560\n",
       "│    └─Dropout: 2-22                          [2, 1280, 1, 32]          --\n",
       "===============================================================================================\n",
       "Total params: 3,125,900\n",
       "Trainable params: 3,125,900\n",
       "Non-trainable params: 0\n",
       "Total mult-adds (M): 770.11\n",
       "===============================================================================================\n",
       "Input size (MB): 0.46\n",
       "Forward/backward pass size (MB): 268.21\n",
       "Params size (MB): 12.50\n",
       "Estimated Total Size (MB): 281.17\n",
       "==============================================================================================="
      ]
     },
     "execution_count": 18,
     "metadata": {},
     "output_type": "execute_result"
    }
   ],
   "source": [
    "summary(net, (2, 1, 56, 1024), device=\"cpu\", depth=4)"
   ]
  }
 ],
 "metadata": {
  "kernelspec": {
   "display_name": "Python 3 (ipykernel)",
   "language": "python",
   "name": "python3"
  },
  "language_info": {
   "codemirror_mode": {
    "name": "ipython",
    "version": 3
   },
   "file_extension": ".py",
   "mimetype": "text/x-python",
   "name": "python",
   "nbconvert_exporter": "python",
   "pygments_lexer": "ipython3",
   "version": "3.9.7"
  }
 },
 "nbformat": 4,
 "nbformat_minor": 5
}
