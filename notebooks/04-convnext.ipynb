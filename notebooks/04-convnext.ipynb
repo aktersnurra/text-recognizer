{
 "cells": [
  {
   "cell_type": "code",
   "execution_count": 14,
   "id": "7c02ae76-b540-4b16-9492-e9210b3b9249",
   "metadata": {},
   "outputs": [
    {
     "name": "stdout",
     "output_type": "stream",
     "text": [
      "The autoreload extension is already loaded. To reload it, use:\n",
      "  %reload_ext autoreload\n"
     ]
    }
   ],
   "source": [
    "import os\n",
    "os.environ['CUDA_VISIBLE_DEVICE'] = ''\n",
    "import random\n",
    "\n",
    "%matplotlib inline\n",
    "import matplotlib.pyplot as plt\n",
    "\n",
    "import numpy as np\n",
    "from omegaconf import OmegaConf\n",
    "\n",
    "%load_ext autoreload\n",
    "%autoreload 2\n",
    "\n",
    "from importlib.util import find_spec\n",
    "if find_spec(\"text_recognizer\") is None:\n",
    "    import sys\n",
    "    sys.path.append('..')"
   ]
  },
  {
   "cell_type": "code",
   "execution_count": 15,
   "id": "ccdb6dde-47e5-429a-88f2-0764fb7e259a",
   "metadata": {},
   "outputs": [],
   "source": [
    "from hydra import compose, initialize\n",
    "from omegaconf import OmegaConf\n",
    "from hydra.utils import instantiate"
   ]
  },
  {
   "cell_type": "code",
   "execution_count": 16,
   "id": "3cf50475-39f2-4642-a7d1-5bcbc0a036f7",
   "metadata": {},
   "outputs": [],
   "source": [
    "path = \"../training/conf/network/convnext.yaml\""
   ]
  },
  {
   "cell_type": "code",
   "execution_count": 37,
   "id": "e52ecb01-c975-4e55-925d-1182c7aea473",
   "metadata": {},
   "outputs": [],
   "source": [
    "with open(path, \"rb\") as f:\n",
    "    cfg = OmegaConf.load(f)"
   ]
  },
  {
   "cell_type": "code",
   "execution_count": 38,
   "id": "f939aa37-7b1d-45cc-885c-323c4540bda1",
   "metadata": {},
   "outputs": [
    {
     "data": {
      "text/plain": [
       "{'_target_': 'text_recognizer.network.convnext.ConvNext', 'dim': 16, 'dim_mults': [2, 4, 8], 'depths': [3, 3, 6], 'downsampling_factors': [[2, 2], [2, 2], [2, 2]], 'attn': {'_target_': 'text_recognizer.network.convnext.TransformerBlock', 'attn': {'_target_': 'text_recognizer.network.convnext.Attention', 'dim': 128, 'heads': 4, 'dim_head': 64, 'scale': 8}, 'ff': {'_target_': 'text_recognizer.network.convnext.FeedForward', 'dim': 128, 'mult': 4}}}"
      ]
     },
     "execution_count": 38,
     "metadata": {},
     "output_type": "execute_result"
    }
   ],
   "source": [
    "cfg"
   ]
  },
  {
   "cell_type": "code",
   "execution_count": 19,
   "id": "a2b420c1",
   "metadata": {},
   "outputs": [],
   "source": [
    "cfg.dim_mults = [2, 4, 8, 8]\n",
    "cfg.depths = [3, 3, 6, 6]\n",
    "cfg.downsampling_factors = [[2, 2], [2, 2], [2, 2], [2, 1]]"
   ]
  },
  {
   "cell_type": "code",
   "execution_count": 39,
   "id": "c9589350",
   "metadata": {},
   "outputs": [],
   "source": [
    "net = instantiate(cfg)"
   ]
  },
  {
   "cell_type": "code",
   "execution_count": 40,
   "id": "618b997c-e6a6-4487-b70c-9d260cb556d3",
   "metadata": {},
   "outputs": [],
   "source": [
    "from torchinfo import summary"
   ]
  },
  {
   "cell_type": "code",
   "execution_count": 41,
   "id": "25759b7b-8deb-4163-b75d-a1357c9fe88f",
   "metadata": {
    "scrolled": false
   },
   "outputs": [
    {
     "data": {
      "text/plain": [
       "====================================================================================================\n",
       "Layer (type:depth-idx)                             Output Shape              Param #\n",
       "====================================================================================================\n",
       "ConvNext                                           [2, 128, 72, 80]          165,408\n",
       "├─TransformerBlock: 1-5                            [2, 128, 72, 80]          (recursive)\n",
       "│    └─Attention: 2-6                              [2, 128, 72, 80]          (recursive)\n",
       "│    │    └─LayerNorm: 3-13                        [2, 128, 72, 80]          (recursive)\n",
       "├─Conv2d: 1-3                                      [2, 16, 576, 640]         (recursive)\n",
       "├─TransformerBlock: 1                              --                        --\n",
       "│    └─Attention: 2                                --                        --\n",
       "│    │    └─Conv2d: 3-15                           [2, 128, 72, 80]          (recursive)\n",
       "│    └─FeedForward: 2-7                            [2, 128, 72, 80]          (recursive)\n",
       "│    │    └─Residual: 3-16                         [2, 128, 72, 80]          (recursive)\n",
       "│    │    │    └─Sequential: 4-26                  [2, 128, 72, 80]          (recursive)\n",
       "├─Conv2d: 1-3                                      [2, 16, 576, 640]         (recursive)\n",
       "├─ModuleList: 1-4                                  --                        --\n",
       "│    └─ModuleList: 2-3                             --                        --\n",
       "│    │    └─ConvNextBlock: 3-4                     [2, 16, 576, 640]         --\n",
       "│    │    │    └─Conv2d: 4-2                       [2, 16, 576, 640]         800\n",
       "│    │    │    └─Sequential: 4-3                   [2, 16, 576, 640]         9,280\n",
       "│    │    │    └─Identity: 4-4                     [2, 16, 576, 640]         --\n",
       "│    │    └─ModuleList: 3-5                        --                        --\n",
       "│    │    │    └─ConvNextBlock: 4-5                [2, 16, 576, 640]         10,080\n",
       "│    │    │    └─ConvNextBlock: 4-6                [2, 16, 576, 640]         10,080\n",
       "│    │    │    └─ConvNextBlock: 4-7                [2, 16, 576, 640]         10,080\n",
       "│    │    └─Downsample: 3-6                        [2, 32, 288, 320]         --\n",
       "│    │    │    └─Sequential: 4-8                   [2, 32, 288, 320]         2,080\n",
       "│    └─ModuleList: 2-4                             --                        --\n",
       "│    │    └─ConvNextBlock: 3-7                     [2, 32, 288, 320]         --\n",
       "│    │    │    └─Conv2d: 4-9                       [2, 32, 288, 320]         1,600\n",
       "│    │    │    └─Sequential: 4-10                  [2, 32, 288, 320]         36,992\n",
       "│    │    │    └─Identity: 4-11                    [2, 32, 288, 320]         --\n",
       "│    │    └─ModuleList: 3-8                        --                        --\n",
       "│    │    │    └─ConvNextBlock: 4-12               [2, 32, 288, 320]         38,592\n",
       "│    │    │    └─ConvNextBlock: 4-13               [2, 32, 288, 320]         38,592\n",
       "│    │    │    └─ConvNextBlock: 4-14               [2, 32, 288, 320]         38,592\n",
       "│    │    └─Downsample: 3-9                        [2, 64, 144, 160]         --\n",
       "│    │    │    └─Sequential: 4-15                  [2, 64, 144, 160]         8,256\n",
       "│    └─ModuleList: 2-5                             --                        --\n",
       "│    │    └─ConvNextBlock: 3-10                    [2, 64, 144, 160]         --\n",
       "│    │    │    └─Conv2d: 4-16                      [2, 64, 144, 160]         3,200\n",
       "│    │    │    └─Sequential: 4-17                  [2, 64, 144, 160]         147,712\n",
       "│    │    │    └─Identity: 4-18                    [2, 64, 144, 160]         --\n",
       "│    │    └─ModuleList: 3-11                       --                        --\n",
       "│    │    │    └─ConvNextBlock: 4-19               [2, 64, 144, 160]         150,912\n",
       "│    │    │    └─ConvNextBlock: 4-20               [2, 64, 144, 160]         150,912\n",
       "│    │    │    └─ConvNextBlock: 4-21               [2, 64, 144, 160]         150,912\n",
       "│    │    │    └─ConvNextBlock: 4-22               [2, 64, 144, 160]         150,912\n",
       "│    │    │    └─ConvNextBlock: 4-23               [2, 64, 144, 160]         150,912\n",
       "│    │    │    └─ConvNextBlock: 4-24               [2, 64, 144, 160]         150,912\n",
       "│    │    └─Downsample: 3-12                       [2, 128, 72, 80]          --\n",
       "│    │    │    └─Sequential: 4-25                  [2, 128, 72, 80]          32,896\n",
       "├─TransformerBlock: 1-5                            [2, 128, 72, 80]          (recursive)\n",
       "│    └─Attention: 2-6                              [2, 128, 72, 80]          (recursive)\n",
       "│    │    └─LayerNorm: 3-13                        [2, 128, 72, 80]          (recursive)\n",
       "│    │    └─Conv2d: 3-14                           [2, 768, 72, 80]          98,304\n",
       "│    │    └─Conv2d: 3-15                           [2, 128, 72, 80]          (recursive)\n",
       "│    └─FeedForward: 2-7                            [2, 128, 72, 80]          (recursive)\n",
       "│    │    └─Residual: 3-16                         [2, 128, 72, 80]          (recursive)\n",
       "│    │    │    └─Sequential: 4-26                  [2, 128, 72, 80]          (recursive)\n",
       "├─LayerNorm: 1-6                                   [2, 128, 72, 80]          128\n",
       "====================================================================================================\n",
       "Total params: 1,558,144\n",
       "Trainable params: 1,558,144\n",
       "Non-trainable params: 0\n",
       "Total mult-adds (G): 114.00\n",
       "====================================================================================================\n",
       "Input size (MB): 2.95\n",
       "Forward/backward pass size (MB): 3822.06\n",
       "Params size (MB): 5.57\n",
       "Estimated Total Size (MB): 3830.58\n",
       "===================================================================================================="
      ]
     },
     "execution_count": 41,
     "metadata": {},
     "output_type": "execute_result"
    }
   ],
   "source": [
    "summary(net, (2, 1, 576, 640), device=\"cpu\", depth=4)"
   ]
  },
  {
   "cell_type": "code",
   "execution_count": null,
   "id": "05c1d499",
   "metadata": {},
   "outputs": [],
   "source": []
  }
 ],
 "metadata": {
  "kernelspec": {
   "display_name": "Python 3 (ipykernel)",
   "language": "python",
   "name": "python3"
  },
  "language_info": {
   "codemirror_mode": {
    "name": "ipython",
    "version": 3
   },
   "file_extension": ".py",
   "mimetype": "text/x-python",
   "name": "python",
   "nbconvert_exporter": "python",
   "pygments_lexer": "ipython3",
   "version": "3.9.4"
  }
 },
 "nbformat": 4,
 "nbformat_minor": 5
}
