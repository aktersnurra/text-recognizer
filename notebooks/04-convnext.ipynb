{
 "cells": [
  {
   "cell_type": "code",
   "execution_count": 1,
   "id": "7c02ae76-b540-4b16-9492-e9210b3b9249",
   "metadata": {},
   "outputs": [],
   "source": [
    "import os\n",
    "os.environ['CUDA_VISIBLE_DEVICE'] = ''\n",
    "import random\n",
    "\n",
    "%matplotlib inline\n",
    "import matplotlib.pyplot as plt\n",
    "\n",
    "import numpy as np\n",
    "from omegaconf import OmegaConf\n",
    "\n",
    "%load_ext autoreload\n",
    "%autoreload 2\n",
    "\n",
    "from importlib.util import find_spec\n",
    "if find_spec(\"text_recognizer\") is None:\n",
    "    import sys\n",
    "    sys.path.append('..')"
   ]
  },
  {
   "cell_type": "code",
   "execution_count": 2,
   "id": "ccdb6dde-47e5-429a-88f2-0764fb7e259a",
   "metadata": {},
   "outputs": [],
   "source": [
    "from hydra import compose, initialize\n",
    "from omegaconf import OmegaConf\n",
    "from hydra.utils import instantiate"
   ]
  },
  {
   "cell_type": "code",
   "execution_count": 3,
   "id": "3cf50475-39f2-4642-a7d1-5bcbc0a036f7",
   "metadata": {},
   "outputs": [],
   "source": [
    "path = \"../training/conf/network/convnext.yaml\""
   ]
  },
  {
   "cell_type": "code",
   "execution_count": 4,
   "id": "e52ecb01-c975-4e55-925d-1182c7aea473",
   "metadata": {},
   "outputs": [],
   "source": [
    "with open(path, \"rb\") as f:\n",
    "    cfg = OmegaConf.load(f)"
   ]
  },
  {
   "cell_type": "code",
   "execution_count": 5,
   "id": "f939aa37-7b1d-45cc-885c-323c4540bda1",
   "metadata": {},
   "outputs": [
    {
     "data": {
      "text/plain": [
       "{'_target_': 'text_recognizer.networks.convnext.ConvNext', 'dim': 16, 'dim_mults': [2, 4, 8], 'depths': [3, 3, 6], 'downsampling_factors': [[2, 2], [2, 2], [2, 2]], 'attn': {'_target_': 'text_recognizer.networks.convnext.TransformerBlock', 'attn': {'_target_': 'text_recognizer.networks.convnext.Attention', 'dim': 128, 'heads': 4, 'dim_head': 64, 'scale': 8}, 'ff': {'_target_': 'text_recognizer.networks.convnext.FeedForward', 'dim': 128, 'mult': 4}}}"
      ]
     },
     "execution_count": 5,
     "metadata": {},
     "output_type": "execute_result"
    }
   ],
   "source": [
    "cfg"
   ]
  },
  {
   "cell_type": "code",
   "execution_count": 10,
   "id": "a2b420c1",
   "metadata": {},
   "outputs": [],
   "source": [
    "cfg.dim_mults = [2, 4, 8, 8, 8]\n",
    "cfg.depths = [3, 3, 3, 3, 6]\n",
    "cfg.downsampling_factors = [[2, 2], [2, 2], [2, 2], [2, 1], [2, 1]]"
   ]
  },
  {
   "cell_type": "code",
   "execution_count": 11,
   "id": "c9589350",
   "metadata": {},
   "outputs": [],
   "source": [
    "net = instantiate(cfg)"
   ]
  },
  {
   "cell_type": "code",
   "execution_count": 12,
   "id": "618b997c-e6a6-4487-b70c-9d260cb556d3",
   "metadata": {},
   "outputs": [],
   "source": [
    "from torchinfo import summary"
   ]
  },
  {
   "cell_type": "code",
   "execution_count": 13,
   "id": "25759b7b-8deb-4163-b75d-a1357c9fe88f",
   "metadata": {
    "scrolled": false
   },
   "outputs": [
    {
     "data": {
      "text/plain": [
       "====================================================================================================\n",
       "Layer (type:depth-idx)                             Output Shape              Param #\n",
       "====================================================================================================\n",
       "ConvNext                                           [2, 128, 18, 80]          5,969,376\n",
       "├─Conv2d: 1-1                                      [2, 16, 576, 640]         800\n",
       "├─ModuleList: 1                                    --                        --\n",
       "│    └─ModuleList: 2                               --                        --\n",
       "│    │    └─ConvNextBlock: 3-1                     [2, 16, 576, 640]         --\n",
       "│    │    │    └─Conv2d: 4-1                       [2, 16, 576, 640]         800\n",
       "│    │    │    └─Sequential: 4-2                   [2, 16, 576, 640]         9,280\n",
       "│    │    │    └─Identity: 4-3                     [2, 16, 576, 640]         --\n",
       "│    │    └─ModuleList: 3                          --                        --\n",
       "│    │    │    └─ConvNextBlock: 4-4                [2, 16, 576, 640]         10,080\n",
       "│    │    │    └─ConvNextBlock: 4-5                [2, 16, 576, 640]         10,080\n",
       "│    │    │    └─ConvNextBlock: 4-6                [2, 16, 576, 640]         10,080\n",
       "│    │    └─Downsample: 3-2                        [2, 32, 288, 320]         --\n",
       "│    │    │    └─Sequential: 4-7                   [2, 32, 288, 320]         2,080\n",
       "│    └─ModuleList: 2                               --                        --\n",
       "│    │    └─ConvNextBlock: 3-3                     [2, 32, 288, 320]         --\n",
       "│    │    │    └─Conv2d: 4-8                       [2, 32, 288, 320]         1,600\n",
       "│    │    │    └─Sequential: 4-9                   [2, 32, 288, 320]         36,992\n",
       "│    │    │    └─Identity: 4-10                    [2, 32, 288, 320]         --\n",
       "│    │    └─ModuleList: 3                          --                        --\n",
       "│    │    │    └─ConvNextBlock: 4-11               [2, 32, 288, 320]         38,592\n",
       "│    │    │    └─ConvNextBlock: 4-12               [2, 32, 288, 320]         38,592\n",
       "│    │    │    └─ConvNextBlock: 4-13               [2, 32, 288, 320]         38,592\n",
       "│    │    └─Downsample: 3-4                        [2, 64, 144, 160]         --\n",
       "│    │    │    └─Sequential: 4-14                  [2, 64, 144, 160]         8,256\n",
       "│    └─ModuleList: 2                               --                        --\n",
       "│    │    └─ConvNextBlock: 3-5                     [2, 64, 144, 160]         --\n",
       "│    │    │    └─Conv2d: 4-15                      [2, 64, 144, 160]         3,200\n",
       "│    │    │    └─Sequential: 4-16                  [2, 64, 144, 160]         147,712\n",
       "│    │    │    └─Identity: 4-17                    [2, 64, 144, 160]         --\n",
       "│    │    └─ModuleList: 3                          --                        --\n",
       "│    │    │    └─ConvNextBlock: 4-18               [2, 64, 144, 160]         150,912\n",
       "│    │    │    └─ConvNextBlock: 4-19               [2, 64, 144, 160]         150,912\n",
       "│    │    │    └─ConvNextBlock: 4-20               [2, 64, 144, 160]         150,912\n",
       "│    │    └─Downsample: 3-6                        [2, 128, 72, 80]          --\n",
       "│    │    │    └─Sequential: 4-21                  [2, 128, 72, 80]          32,896\n",
       "│    └─ModuleList: 2                               --                        --\n",
       "│    │    └─ConvNextBlock: 3-7                     [2, 128, 72, 80]          --\n",
       "│    │    │    └─Conv2d: 4-22                      [2, 128, 72, 80]          6,400\n",
       "│    │    │    └─Sequential: 4-23                  [2, 128, 72, 80]          590,336\n",
       "│    │    │    └─Identity: 4-24                    [2, 128, 72, 80]          --\n",
       "│    │    └─ModuleList: 3                          --                        --\n",
       "│    │    │    └─ConvNextBlock: 4-25               [2, 128, 72, 80]          596,736\n",
       "│    │    │    └─ConvNextBlock: 4-26               [2, 128, 72, 80]          596,736\n",
       "│    │    │    └─ConvNextBlock: 4-27               [2, 128, 72, 80]          596,736\n",
       "│    │    └─Downsample: 3-8                        [2, 128, 36, 80]          --\n",
       "│    │    │    └─Sequential: 4-28                  [2, 128, 36, 80]          32,896\n",
       "│    └─ModuleList: 2                               --                        --\n",
       "│    │    └─ConvNextBlock: 3-9                     [2, 128, 36, 80]          --\n",
       "│    │    │    └─Conv2d: 4-29                      [2, 128, 36, 80]          6,400\n",
       "│    │    │    └─Sequential: 4-30                  [2, 128, 36, 80]          590,336\n",
       "│    │    │    └─Identity: 4-31                    [2, 128, 36, 80]          --\n",
       "│    │    └─ModuleList: 3                          --                        --\n",
       "│    │    │    └─ConvNextBlock: 4-32               [2, 128, 36, 80]          596,736\n",
       "│    │    │    └─ConvNextBlock: 4-33               [2, 128, 36, 80]          596,736\n",
       "│    │    │    └─ConvNextBlock: 4-34               [2, 128, 36, 80]          596,736\n",
       "│    │    │    └─ConvNextBlock: 4-35               [2, 128, 36, 80]          596,736\n",
       "│    │    │    └─ConvNextBlock: 4-36               [2, 128, 36, 80]          596,736\n",
       "│    │    │    └─ConvNextBlock: 4-37               [2, 128, 36, 80]          596,736\n",
       "│    │    └─Downsample: 3-10                       [2, 128, 18, 80]          --\n",
       "│    │    │    └─Sequential: 4-38                  [2, 128, 18, 80]          32,896\n",
       "├─TransformerBlock: 1-2                            [2, 128, 18, 80]          --\n",
       "│    └─Attention: 2-1                              [2, 128, 18, 80]          --\n",
       "│    │    └─LayerNorm: 3-11                        [2, 128, 18, 80]          128\n",
       "│    │    └─Conv2d: 3-12                           [2, 768, 18, 80]          98,304\n",
       "│    │    └─Conv2d: 3-13                           [2, 128, 18, 80]          32,768\n",
       "│    └─FeedForward: 2-2                            [2, 128, 18, 80]          --\n",
       "│    │    └─Residual: 3-14                         [2, 128, 18, 80]          --\n",
       "│    │    │    └─Sequential: 4-39                  [2, 128, 18, 80]          131,712\n",
       "├─LayerNorm: 1-3                                   [2, 128, 18, 80]          128\n",
       "====================================================================================================\n",
       "Total params: 7,735,296\n",
       "Trainable params: 7,735,296\n",
       "Non-trainable params: 0\n",
       "Total mult-adds (G): 140.23\n",
       "====================================================================================================\n",
       "Input size (MB): 2.95\n",
       "Forward/backward pass size (MB): 3987.21\n",
       "Params size (MB): 30.94\n",
       "Estimated Total Size (MB): 4021.10\n",
       "===================================================================================================="
      ]
     },
     "execution_count": 13,
     "metadata": {},
     "output_type": "execute_result"
    }
   ],
   "source": [
    "summary(net, (2, 1, 576, 640), device=\"cpu\", depth=4)"
   ]
  },
  {
   "cell_type": "code",
   "execution_count": null,
   "id": "7a7e27f4",
   "metadata": {},
   "outputs": [],
   "source": []
  }
 ],
 "metadata": {
  "kernelspec": {
   "display_name": "Python 3 (ipykernel)",
   "language": "python",
   "name": "python3"
  },
  "language_info": {
   "codemirror_mode": {
    "name": "ipython",
    "version": 3
   },
   "file_extension": ".py",
   "mimetype": "text/x-python",
   "name": "python",
   "nbconvert_exporter": "python",
   "pygments_lexer": "ipython3",
   "version": "3.9.4"
  }
 },
 "nbformat": 4,
 "nbformat_minor": 5
}
