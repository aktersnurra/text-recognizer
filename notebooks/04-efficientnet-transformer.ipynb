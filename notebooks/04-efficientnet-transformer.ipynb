{
 "cells": [
  {
   "cell_type": "code",
   "execution_count": 2,
   "id": "7c02ae76-b540-4b16-9492-e9210b3b9249",
   "metadata": {},
   "outputs": [],
   "source": [
    "import os\n",
    "os.environ['CUDA_VISIBLE_DEVICE'] = ''\n",
    "import random\n",
    "\n",
    "%matplotlib inline\n",
    "import matplotlib.pyplot as plt\n",
    "\n",
    "import numpy as np\n",
    "from omegaconf import OmegaConf\n",
    "\n",
    "%load_ext autoreload\n",
    "%autoreload 2\n",
    "\n",
    "from importlib.util import find_spec\n",
    "if find_spec(\"text_recognizer\") is None:\n",
    "    import sys\n",
    "    sys.path.append('..')"
   ]
  },
  {
   "cell_type": "code",
   "execution_count": 3,
   "id": "ccdb6dde-47e5-429a-88f2-0764fb7e259a",
   "metadata": {},
   "outputs": [],
   "source": [
    "from hydra import compose, initialize\n",
    "from omegaconf import OmegaConf\n",
    "from hydra.utils import instantiate"
   ]
  },
  {
   "cell_type": "code",
   "execution_count": 4,
   "id": "3cf50475-39f2-4642-a7d1-5bcbc0a036f7",
   "metadata": {},
   "outputs": [],
   "source": [
    "path = \"../training/conf/experiment/cnn_htr_char_lines.yaml\""
   ]
  },
  {
   "cell_type": "code",
   "execution_count": 5,
   "id": "e52ecb01-c975-4e55-925d-1182c7aea473",
   "metadata": {},
   "outputs": [],
   "source": [
    "with open(path, \"rb\") as f:\n",
    "    cfg = OmegaConf.load(f)"
   ]
  },
  {
   "cell_type": "code",
   "execution_count": 6,
   "id": "f939aa37-7b1d-45cc-885c-323c4540bda1",
   "metadata": {},
   "outputs": [
    {
     "data": {
      "text/plain": [
       "{'defaults': [{'override /mapping': None}, {'override /criterion': None}, {'override /datamodule': None}, {'override /network': None}, {'override /model': None}, {'override /lr_schedulers': None}, {'override /optimizers': None}], 'criterion': {'_target_': 'torch.nn.CrossEntropyLoss', 'ignore_index': 3}, 'mapping': {'_target_': 'text_recognizer.data.emnist_mapping.EmnistMapping'}, 'optimizers': {'madgrad': {'_target_': 'madgrad.MADGRAD', 'lr': 0.0001, 'momentum': 0.9, 'weight_decay': 0, 'eps': 1e-06, 'parameters': 'network'}}, 'lr_schedulers': {'network': {'_target_': 'torch.optim.lr_scheduler.CosineAnnealingLR', 'T_max': 1024, 'eta_min': 4.5e-06, 'last_epoch': -1, 'interval': 'epoch', 'monitor': 'val/loss'}}, 'datamodule': {'_target_': 'text_recognizer.data.iam_lines.IAMLines', 'batch_size': 8, 'num_workers': 12, 'train_fraction': 0.8, 'augment': False, 'pin_memory': False}, 'network': {'_target_': 'text_recognizer.networks.conv_transformer.ConvTransformer', 'input_dims': [1, 56, 1024], 'hidden_dim': 128, 'encoder_dim': 1280, 'dropout_rate': 0.2, 'num_classes': 58, 'pad_index': 3, 'encoder': {'_target_': 'text_recognizer.networks.encoders.efficientnet.EfficientNet', 'arch': 'b0', 'out_channels': 1280, 'stochastic_dropout_rate': 0.2, 'bn_momentum': 0.99, 'bn_eps': 0.001}, 'decoder': {'_target_': 'text_recognizer.networks.transformer.Decoder', 'dim': 128, 'depth': 2, 'num_heads': 4, 'attn_fn': 'text_recognizer.networks.transformer.attention.Attention', 'attn_kwargs': {'dim_head': 32, 'dropout_rate': 0.2}, 'norm_fn': 'torch.nn.LayerNorm', 'ff_fn': 'text_recognizer.networks.transformer.mlp.FeedForward', 'ff_kwargs': {'dim_out': None, 'expansion_factor': 4, 'glu': True, 'dropout_rate': 0.2}, 'cross_attend': True, 'pre_norm': True, 'rotary_emb': None}}, 'model': {'_target_': 'text_recognizer.models.transformer.TransformerLitModel', 'max_output_len': 89, 'start_token': '<s>', 'end_token': '<e>', 'pad_token': '<p>'}, 'trainer': {'_target_': 'pytorch_lightning.Trainer', 'stochastic_weight_avg': False, 'auto_scale_batch_size': 'binsearch', 'auto_lr_find': False, 'gradient_clip_val': 0, 'fast_dev_run': False, 'gpus': 1, 'precision': 16, 'max_epochs': 1024, 'terminate_on_nan': True, 'weights_summary': 'top', 'limit_train_batches': 1.0, 'limit_val_batches': 1.0, 'limit_test_batches': 1.0, 'resume_from_checkpoint': None, 'accumulate_grad_batches': 4}}"
      ]
     },
     "execution_count": 6,
     "metadata": {},
     "output_type": "execute_result"
    }
   ],
   "source": [
    "cfg"
   ]
  },
  {
   "cell_type": "code",
   "execution_count": 7,
   "id": "aaeab329-aeb0-4a1b-aa35-5a2aab81b1d0",
   "metadata": {},
   "outputs": [],
   "source": [
    "net = instantiate(cfg.network)"
   ]
  },
  {
   "cell_type": "code",
   "execution_count": 9,
   "id": "618b997c-e6a6-4487-b70c-9d260cb556d3",
   "metadata": {},
   "outputs": [],
   "source": [
    "from torchinfo import summary"
   ]
  },
  {
   "cell_type": "code",
   "execution_count": 10,
   "id": "25759b7b-8deb-4163-b75d-a1357c9fe88f",
   "metadata": {},
   "outputs": [
    {
     "name": "stdout",
     "output_type": "stream",
     "text": [
      "torch.Size([4, 4, 89, 1024])\n",
      "torch.Size([4, 4, 89, 1024])\n",
      "torch.Size([4, 4, 89, 1024])\n",
      "torch.Size([4, 4, 32, 1024])\n",
      "torch.Size([4, 4, 89, 1024])\n",
      "torch.Size([4, 4, 89, 1024])\n",
      "torch.Size([4, 4, 89, 1024])\n",
      "torch.Size([4, 4, 32, 1024])\n"
     ]
    },
    {
     "data": {
      "text/plain": [
       "====================================================================================================\n",
       "Layer (type:depth-idx)                             Output Shape              Param #\n",
       "====================================================================================================\n",
       "ConvTransformer                                    --                        --\n",
       "├─EfficientNet: 1                                  --                        --\n",
       "│    └─ModuleList: 2-1                             --                        --\n",
       "├─Decoder: 1                                       --                        --\n",
       "│    └─ModuleList: 2-2                             --                        --\n",
       "│    │    └─ModuleList: 3-1                        --                        2,097,536\n",
       "│    │    └─ModuleList: 3-2                        --                        2,097,536\n",
       "│    │    └─ModuleList: 3-3                        --                        198,016\n",
       "│    │    └─ModuleList: 3-4                        --                        2,097,536\n",
       "│    │    └─ModuleList: 3-5                        --                        2,097,536\n",
       "│    │    └─ModuleList: 3-6                        --                        198,016\n",
       "├─EfficientNet: 1-1                                [4, 1280, 1, 32]          --\n",
       "│    └─Sequential: 2-3                             [4, 32, 28, 512]          --\n",
       "│    │    └─ZeroPad2d: 3-7                         [4, 1, 57, 1025]          --\n",
       "│    │    └─Conv2d: 3-8                            [4, 32, 28, 512]          288\n",
       "│    │    └─BatchNorm2d: 3-9                       [4, 32, 28, 512]          64\n",
       "│    │    └─Mish: 3-10                             [4, 32, 28, 512]          --\n",
       "│    └─ModuleList: 2-1                             --                        --\n",
       "│    │    └─MBConvBlock: 3-11                      [4, 16, 28, 512]          1,448\n",
       "│    │    └─MBConvBlock: 3-12                      [4, 24, 14, 256]          9,864\n",
       "│    │    └─MBConvBlock: 3-13                      [4, 24, 14, 256]          19,380\n",
       "│    │    └─MBConvBlock: 3-14                      [4, 40, 7, 128]           24,020\n",
       "│    │    └─MBConvBlock: 3-15                      [4, 40, 7, 128]           55,340\n",
       "│    │    └─MBConvBlock: 3-16                      [4, 80, 3, 64]            61,180\n",
       "│    │    └─MBConvBlock: 3-17                      [4, 80, 3, 64]            199,000\n",
       "│    │    └─MBConvBlock: 3-18                      [4, 80, 3, 64]            199,000\n",
       "│    │    └─MBConvBlock: 3-19                      [4, 112, 3, 64]           222,104\n",
       "│    │    └─MBConvBlock: 3-20                      [4, 112, 3, 64]           396,872\n",
       "│    │    └─MBConvBlock: 3-21                      [4, 112, 3, 64]           396,872\n",
       "│    │    └─MBConvBlock: 3-22                      [4, 192, 1, 32]           450,792\n",
       "│    │    └─MBConvBlock: 3-23                      [4, 192, 1, 32]           1,141,152\n",
       "│    │    └─MBConvBlock: 3-24                      [4, 192, 1, 32]           1,141,152\n",
       "│    │    └─MBConvBlock: 3-25                      [4, 192, 1, 32]           1,141,152\n",
       "│    │    └─MBConvBlock: 3-26                      [4, 320, 1, 32]           1,270,432\n",
       "│    └─Sequential: 2-4                             [4, 1280, 1, 32]          --\n",
       "│    │    └─Conv2d: 3-27                           [4, 1280, 1, 32]          409,600\n",
       "│    │    └─BatchNorm2d: 3-28                      [4, 1280, 1, 32]          2,560\n",
       "├─Sequential: 1-2                                  [4, 128, 32]              --\n",
       "│    └─Conv2d: 2-5                                 [4, 128, 1, 32]           163,968\n",
       "│    └─PositionalEncoding2D: 2-6                   [4, 128, 1, 32]           --\n",
       "│    └─Flatten: 2-7                                [4, 128, 32]              --\n",
       "├─Embedding: 1-3                                   [4, 89, 128]              7,424\n",
       "├─PositionalEncoding: 1-4                          [4, 89, 128]              --\n",
       "│    └─Dropout: 2-8                                [4, 89, 128]              --\n",
       "├─Decoder: 1-5                                     [4, 89, 128]              --\n",
       "├─Linear: 1-6                                      [4, 89, 58]               7,482\n",
       "====================================================================================================\n",
       "Total params: 16,107,322\n",
       "Trainable params: 16,107,322\n",
       "Non-trainable params: 0\n",
       "Total mult-adds (G): 2.84\n",
       "====================================================================================================\n",
       "Input size (MB): 0.92\n",
       "Forward/backward pass size (MB): 677.01\n",
       "Params size (MB): 64.43\n",
       "Estimated Total Size (MB): 742.36\n",
       "===================================================================================================="
      ]
     },
     "execution_count": 10,
     "metadata": {},
     "output_type": "execute_result"
    }
   ],
   "source": [
    "summary(net, ((4, 1, 56, 1024), (4, 89)), device=\"cpu\")"
   ]
  }
 ],
 "metadata": {
  "kernelspec": {
   "display_name": "Python 3 (ipykernel)",
   "language": "python",
   "name": "python3"
  },
  "language_info": {
   "codemirror_mode": {
    "name": "ipython",
    "version": 3
   },
   "file_extension": ".py",
   "mimetype": "text/x-python",
   "name": "python",
   "nbconvert_exporter": "python",
   "pygments_lexer": "ipython3",
   "version": "3.9.7"
  }
 },
 "nbformat": 4,
 "nbformat_minor": 5
}
