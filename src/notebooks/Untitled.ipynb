{
 "cells": [
  {
   "cell_type": "code",
   "execution_count": 1,
   "metadata": {},
   "outputs": [],
   "source": [
    "%load_ext autoreload\n",
    "%autoreload 2\n",
    "\n",
    "import importlib\n",
    "import cv2\n",
    "import yaml\n",
    "\n",
    "%matplotlib inline\n",
    "import matplotlib.pyplot as plt\n",
    "import numpy as np\n",
    "import torch\n",
    "from torch import nn\n",
    "from importlib.util import find_spec\n",
    "if find_spec(\"text_recognizer\") is None:\n",
    "    import sys\n",
    "    sys.path.append('..')"
   ]
  },
  {
   "cell_type": "code",
   "execution_count": 2,
   "metadata": {},
   "outputs": [],
   "source": [
    "def convert_y_label_to_string(y, dataset):\n",
    "    return ''.join([dataset.mapper(int(i)) for i in y])"
   ]
  },
  {
   "cell_type": "code",
   "execution_count": 3,
   "metadata": {},
   "outputs": [],
   "source": [
    "from text_recognizer.models import VisionTransformerModel, TransformerEncoderModel\n",
    "from text_recognizer.datasets import IamLinesDataset\n",
    "from text_recognizer.datasets.transforms import Compose, AddTokens"
   ]
  },
  {
   "cell_type": "code",
   "execution_count": 15,
   "metadata": {},
   "outputs": [],
   "source": [
    "target_transform = Compose([torch.tensor, AddTokens(init_token=\"<sos>\", pad_token=\"_\", eos_token=\"<eos>\")])\n",
    "dataset = IamLinesDataset(train=False, init_token=\"<sos>\", pad_token=\"_\", eos_token=\"<eos>\", target_transform=target_transform)\n",
    "dataset.load_or_generate_data()"
   ]
  },
  {
   "cell_type": "code",
   "execution_count": 6,
   "metadata": {},
   "outputs": [],
   "source": [
    "config_path = \"../training/experiments/VisionTransformerModel_IamLinesDataset_CNNTransformer/1102_221553/config.yml\"\n",
    "with open(config_path, \"r\") as f:\n",
    "    experiment_config = yaml.safe_load(f)"
   ]
  },
  {
   "cell_type": "code",
   "execution_count": 7,
   "metadata": {},
   "outputs": [],
   "source": [
    "dataset_args = experiment_config.get(\"dataset\", {})\n",
    "datasets_module = importlib.import_module(\"text_recognizer.datasets\")\n",
    "dataset_ = getattr(datasets_module, dataset_args[\"type\"])\n",
    "\n",
    "network_module = importlib.import_module(\"text_recognizer.networks\")\n",
    "network_fn_ = getattr(network_module, experiment_config[\"network\"][\"type\"])"
   ]
  },
  {
   "cell_type": "code",
   "execution_count": 8,
   "metadata": {},
   "outputs": [
    {
     "name": "stderr",
     "output_type": "stream",
     "text": [
      "2020-11-03 07:32:07.256 | DEBUG    | text_recognizer.models.base:load_weights:457 - Loading network with pretrained weights.\n"
     ]
    }
   ],
   "source": [
    "model = VisionTransformerModel(network_fn=network_fn_, dataset=dataset_, dataset_args=dataset_args)"
   ]
  },
  {
   "cell_type": "code",
   "execution_count": 9,
   "metadata": {},
   "outputs": [
    {
     "name": "stderr",
     "output_type": "stream",
     "text": [
      "2020-11-03 07:32:10.285 | DEBUG    | text_recognizer.models.base:load_from_checkpoint:404 - Loading checkpoint...\n"
     ]
    }
   ],
   "source": [
    "checkpoint_path = \"../training/experiments/VisionTransformerModel_IamLinesDataset_CNNTransformer/1102_221553/model/last.pt\"\n",
    "model.load_from_checkpoint(checkpoint_path)"
   ]
  },
  {
   "cell_type": "code",
   "execution_count": 10,
   "metadata": {},
   "outputs": [],
   "source": [
    "model.eval()"
   ]
  },
  {
   "cell_type": "code",
   "execution_count": 24,
   "metadata": {},
   "outputs": [],
   "source": [
    "data, target = dataset[0]\n",
    "sentence = convert_y_label_to_string(target, dataset) "
   ]
  },
  {
   "cell_type": "code",
   "execution_count": 25,
   "metadata": {},
   "outputs": [
    {
     "data": {
      "text/plain": [
       "torch.Size([98])"
      ]
     },
     "execution_count": 25,
     "metadata": {},
     "output_type": "execute_result"
    }
   ],
   "source": [
    "target.shape"
   ]
  },
  {
   "cell_type": "code",
   "execution_count": 26,
   "metadata": {},
   "outputs": [
    {
     "data": {
      "text/plain": [
       "([], [])"
      ]
     },
     "execution_count": 26,
     "metadata": {},
     "output_type": "execute_result"
    },
    {
     "data": {
      "image/png": "[encoded data removed]",
      "text/plain": [
       "<Figure size 1440x1440 with 1 Axes>"
      ]
     },
     "metadata": {},
     "output_type": "display_data"
    }
   ],
   "source": [
    "plt.figure(figsize=(20, 20))\n",
    "plt.title(sentence)\n",
    "plt.imshow(data.squeeze(0).numpy(), cmap='gray')\n",
    "plt.xticks([])\n",
    "plt.yticks([])"
   ]
  },
  {
   "cell_type": "code",
   "execution_count": 32,
   "metadata": {},
   "outputs": [],
   "source": [
    "    def make_len_mask(inp):\n",
    "        return (inp == 79).transpose(0, 1)"
   ]
  },
  {
   "cell_type": "code",
   "execution_count": 34,
   "metadata": {},
   "outputs": [
    {
     "data": {
      "text/plain": [
       "torch.Size([98, 1])"
      ]
     },
     "execution_count": 34,
     "metadata": {},
     "output_type": "execute_result"
    }
   ],
   "source": [
    "make_len_mask(target.unsqueeze(0)).shape"
   ]
  },
  {
   "cell_type": "code",
   "execution_count": 27,
   "metadata": {
    "scrolled": true
   },
   "outputs": [
    {
     "data": {
      "text/plain": [
       "('to stel mire of a thar chishirchit<eos>', 0.20226626098155975)"
      ]
     },
     "execution_count": 27,
     "metadata": {},
     "output_type": "execute_result"
    }
   ],
   "source": [
    "model.predict_on_image(data)"
   ]
  },
  {
   "cell_type": "code",
   "execution_count": 103,
   "metadata": {},
   "outputs": [
    {
     "name": "stderr",
     "output_type": "stream",
     "text": [
      "2020-10-31 16:35:40.255 | DEBUG    | text_recognizer.models.base:load_weights:457 - Loading network with pretrained weights.\n",
      "2020-10-31 16:35:40.837 | DEBUG    | text_recognizer.models.base:load_from_checkpoint:404 - Loading checkpoint...\n"
     ]
    }
   ],
   "source": [
    "target_transform = Compose([torch.tensor, AddTokens(pad_token=\"_\", eos_token=\"<eos>\")])\n",
    "dataset = IamLinesDataset(train=False, pad_token=\"_\", eos_token=\"<eos>\", target_transform=target_transform)\n",
    "dataset.load_or_generate_data()\n",
    "\n",
    "\n",
    "config_path = \"../training/experiments/TransformerEncoderModel_IamLinesDataset_CNNTransformerEncoder/1031_150630/config.yml\"\n",
    "with open(config_path, \"r\") as f:\n",
    "    experiment_config = yaml.safe_load(f)\n",
    "\n",
    "\n",
    "dataset_args = experiment_config.get(\"dataset\", {})\n",
    "datasets_module = importlib.import_module(\"text_recognizer.datasets\")\n",
    "dataset_ = getattr(datasets_module, dataset_args[\"type\"])\n",
    "\n",
    "network_module = importlib.import_module(\"text_recognizer.networks\")\n",
    "network_fn_ = getattr(network_module, experiment_config[\"network\"][\"type\"])\n",
    "\n",
    "\n",
    "checkpoint_path = \"../training/experiments/TransformerEncoderModel_IamLinesDataset_CNNTransformerEncoder/1031_150630/model/last.pt\"\n",
    "\n",
    "\n",
    "model = TransformerEncoderModel(network_fn=network_fn_, dataset=dataset_, dataset_args=dataset_args)\n",
    "model.load_from_checkpoint(checkpoint_path)\n"
   ]
  },
  {
   "cell_type": "code",
   "execution_count": 92,
   "metadata": {
    "scrolled": true
   },
   "outputs": [
    {
     "name": "stdout",
     "output_type": "stream",
     "text": [
      "===============================================================================================\n",
      "Layer (type:depth-idx)                        Output Shape              Param #\n",
      "===============================================================================================\n",
      "├─WideResidualNetwork: 1-1                    [-1, 256, 2, 60]          --\n",
      "|    └─Sequential: 2-1                        [-1, 256, 2, 60]          --\n",
      "|    |    └─Conv2d: 3-1                       [-1, 8, 28, 952]          72\n",
      "|    |    └─Sequential: 3-2                   [-1, 16, 28, 952]         --\n",
      "|    |    |    └─WideBlock: 4-1               [-1, 16, 28, 952]         3,632\n",
      "|    |    └─Sequential: 3-3                   [-1, 32, 14, 476]         --\n",
      "|    |    |    └─WideBlock: 4-2               [-1, 32, 14, 476]         14,432\n",
      "|    |    └─Sequential: 3-4                   [-1, 64, 7, 238]          --\n",
      "|    |    |    └─WideBlock: 4-3               [-1, 64, 7, 238]          57,536\n",
      "|    |    └─Sequential: 3-5                   [-1, 128, 4, 119]         --\n",
      "|    |    |    └─WideBlock: 4-4               [-1, 128, 4, 119]         229,760\n",
      "|    |    └─Sequential: 3-6                   [-1, 256, 2, 60]          --\n",
      "|    |    |    └─WideBlock: 4-5               [-1, 256, 2, 60]          918,272\n",
      "├─Conv2d: 1-2                                 [-1, 97, 2, 60]           24,929\n",
      "├─Linear: 1-3                                 [-1, 97, 96]              11,616\n",
      "├─PositionalEncoding: 1-4                     [-1, 97, 96]              --\n",
      "|    └─Dropout: 2-2                           [-1, 97, 96]              --\n",
      "├─TransformerEncoder: 1-5                     [-1, 2, 96]               --\n",
      "|    └─ModuleList: 2                          []                        --\n",
      "|    |    └─TransformerEncoderLayer: 3-7      [-1, 2, 96]               --\n",
      "|    |    |    └─MultiheadAttention: 4-6      [-1, 2, 96]               37,248\n",
      "|    |    |    └─Dropout: 4-7                 [-1, 2, 96]               --\n",
      "|    |    |    └─LayerNorm: 4-8               [-1, 2, 96]               192\n",
      "|    |    |    └─Linear: 4-9                  [-1, 2, 2048]             198,656\n",
      "|    |    |    └─Dropout: 4-10                [-1, 2, 2048]             --\n",
      "|    |    |    └─Linear: 4-11                 [-1, 2, 96]               196,704\n",
      "|    |    |    └─Dropout: 4-12                [-1, 2, 96]               --\n",
      "|    |    |    └─LayerNorm: 4-13              [-1, 2, 96]               192\n",
      "|    |    └─TransformerEncoderLayer: 3-8      [-1, 2, 96]               --\n",
      "|    |    |    └─MultiheadAttention: 4-14     [-1, 2, 96]               37,248\n",
      "|    |    |    └─Dropout: 4-15                [-1, 2, 96]               --\n",
      "|    |    |    └─LayerNorm: 4-16              [-1, 2, 96]               192\n",
      "|    |    |    └─Linear: 4-17                 [-1, 2, 2048]             198,656\n",
      "|    |    |    └─Dropout: 4-18                [-1, 2, 2048]             --\n",
      "|    |    |    └─Linear: 4-19                 [-1, 2, 96]               196,704\n",
      "|    |    |    └─Dropout: 4-20                [-1, 2, 96]               --\n",
      "|    |    |    └─LayerNorm: 4-21              [-1, 2, 96]               192\n",
      "|    |    └─TransformerEncoderLayer: 3-9      [-1, 2, 96]               --\n",
      "|    |    |    └─MultiheadAttention: 4-22     [-1, 2, 96]               37,248\n",
      "|    |    |    └─Dropout: 4-23                [-1, 2, 96]               --\n",
      "|    |    |    └─LayerNorm: 4-24              [-1, 2, 96]               192\n",
      "|    |    |    └─Linear: 4-25                 [-1, 2, 2048]             198,656\n",
      "|    |    |    └─Dropout: 4-26                [-1, 2, 2048]             --\n",
      "|    |    |    └─Linear: 4-27                 [-1, 2, 96]               196,704\n",
      "|    |    |    └─Dropout: 4-28                [-1, 2, 96]               --\n",
      "|    |    |    └─LayerNorm: 4-29              [-1, 2, 96]               192\n",
      "|    |    └─TransformerEncoderLayer: 3-10     [-1, 2, 96]               --\n",
      "|    |    |    └─MultiheadAttention: 4-30     [-1, 2, 96]               37,248\n",
      "|    |    |    └─Dropout: 4-31                [-1, 2, 96]               --\n",
      "|    |    |    └─LayerNorm: 4-32              [-1, 2, 96]               192\n",
      "|    |    |    └─Linear: 4-33                 [-1, 2, 2048]             198,656\n",
      "|    |    |    └─Dropout: 4-34                [-1, 2, 2048]             --\n",
      "|    |    |    └─Linear: 4-35                 [-1, 2, 96]               196,704\n",
      "|    |    |    └─Dropout: 4-36                [-1, 2, 96]               --\n",
      "|    |    |    └─LayerNorm: 4-37              [-1, 2, 96]               192\n",
      "|    |    └─TransformerEncoderLayer: 3-11     [-1, 2, 96]               --\n",
      "|    |    |    └─MultiheadAttention: 4-38     [-1, 2, 96]               37,248\n",
      "|    |    |    └─Dropout: 4-39                [-1, 2, 96]               --\n",
      "|    |    |    └─LayerNorm: 4-40              [-1, 2, 96]               192\n",
      "|    |    |    └─Linear: 4-41                 [-1, 2, 2048]             198,656\n",
      "|    |    |    └─Dropout: 4-42                [-1, 2, 2048]             --\n",
      "|    |    |    └─Linear: 4-43                 [-1, 2, 96]               196,704\n",
      "|    |    |    └─Dropout: 4-44                [-1, 2, 96]               --\n",
      "|    |    |    └─LayerNorm: 4-45              [-1, 2, 96]               192\n",
      "|    |    └─TransformerEncoderLayer: 3-12     [-1, 2, 96]               --\n",
      "|    |    |    └─MultiheadAttention: 4-46     [-1, 2, 96]               37,248\n",
      "|    |    |    └─Dropout: 4-47                [-1, 2, 96]               --\n",
      "|    |    |    └─LayerNorm: 4-48              [-1, 2, 96]               192\n",
      "|    |    |    └─Linear: 4-49                 [-1, 2, 2048]             198,656\n",
      "|    |    |    └─Dropout: 4-50                [-1, 2, 2048]             --\n",
      "|    |    |    └─Linear: 4-51                 [-1, 2, 96]               196,704\n",
      "|    |    |    └─Dropout: 4-52                [-1, 2, 96]               --\n",
      "|    |    |    └─LayerNorm: 4-53              [-1, 2, 96]               192\n",
      "|    └─LayerNorm: 2-3                         [-1, 2, 96]               192\n",
      "├─Linear: 1-6                                 [-1, 97, 81]              7,857\n",
      "===============================================================================================\n",
      "Total params: 3,866,250\n",
      "Trainable params: 3,866,250\n",
      "Non-trainable params: 0\n",
      "Total mult-adds (M): 18.78\n",
      "===============================================================================================\n",
      "Input size (MB): 0.10\n",
      "Forward/backward pass size (MB): 2.06\n",
      "Params size (MB): 14.75\n",
      "Estimated Total Size (MB): 16.91\n",
      "===============================================================================================\n"
     ]
    }
   ],
   "source": [
    "model.summary(experiment_config[\"train_args\"][\"input_shape\"], 4)"
   ]
  },
  {
   "cell_type": "code",
   "execution_count": 110,
   "metadata": {},
   "outputs": [],
   "source": [
    "data, target = dataset[110]\n",
    "sentence = convert_y_label_to_string(target, dataset) "
   ]
  },
  {
   "cell_type": "code",
   "execution_count": 111,
   "metadata": {},
   "outputs": [
    {
     "data": {
      "text/plain": [
       "([], [])"
      ]
     },
     "execution_count": 111,
     "metadata": {},
     "output_type": "execute_result"
    },
    {
     "data": {
      "image/png": "[encoded data removed]",
      "text/plain": [
       "<Figure size 1440x1440 with 1 Axes>"
      ]
     },
     "metadata": {},
     "output_type": "display_data"
    }
   ],
   "source": [
    "plt.figure(figsize=(20, 20))\n",
    "plt.title(sentence)\n",
    "plt.imshow(data.squeeze(0).numpy(), cmap='gray')\n",
    "plt.xticks([])\n",
    "plt.yticks([])"
   ]
  },
  {
   "cell_type": "code",
   "execution_count": 112,
   "metadata": {},
   "outputs": [
    {
     "data": {
      "text/plain": [
       "('Boyis cheed iitrincy- tarisaing one', 0.3990435302257538)"
      ]
     },
     "execution_count": 112,
     "metadata": {},
     "output_type": "execute_result"
    }
   ],
   "source": [
    "model.predict_on_image(data)"
   ]
  },
  {
   "cell_type": "code",
   "execution_count": 95,
   "metadata": {},
   "outputs": [
    {
     "data": {
      "text/plain": [
       "[[1, 28, 952], [92]]"
      ]
     },
     "execution_count": 95,
     "metadata": {},
     "output_type": "execute_result"
    }
   ],
   "source": [
    "experiment_config[\"train_args\"][\"input_shape\"]"
   ]
  },
  {
   "cell_type": "code",
   "execution_count": 99,
   "metadata": {},
   "outputs": [
    {
     "name": "stdout",
     "output_type": "stream",
     "text": [
      "=========================================================================================================\n",
      "Layer (type:depth-idx)                                  Output Shape              Param #\n",
      "=========================================================================================================\n",
      "├─Sequential: 1-1                                       [-1, 158, 1, 28, 6]       --\n",
      "|    └─Unfold: 2-1                                      [-1, 168, 158]            --\n",
      "|    └─Rearrange: 2-2                                   [-1, 158, 1, 28, 6]       --\n",
      "├─Linear: 1-2                                           [-1, 158, 512]            86,528\n",
      "├─PositionalEncoding: 1-3                               [-1, 158, 512]            --\n",
      "|    └─Dropout: 2-3                                     [-1, 158, 512]            --\n",
      "├─Embedding: 1-4                                        [-1, 92, 512]             41,984\n",
      "├─PositionalEncoding: 1-5                               [-1, 92, 512]             --\n",
      "|    └─Dropout: 2-4                                     [-1, 92, 512]             --\n",
      "├─Transformer: 1-6                                      [-1, 92, 512]             --\n",
      "|    └─Encoder: 2-5                                     [-1, 158, 512]            --\n",
      "|    |    └─ModuleList: 3                               []                        --\n",
      "|    |    |    └─EncoderLayer: 4-1                      [-1, 158, 512]            3,150,848\n",
      "|    |    |    └─EncoderLayer: 4-2                      [-1, 158, 512]            3,150,848\n",
      "|    |    |    └─EncoderLayer: 4-3                      [-1, 158, 512]            3,150,848\n",
      "|    |    |    └─EncoderLayer: 4-4                      [-1, 158, 512]            3,150,848\n",
      "|    |    └─LayerNorm: 3-1                              [-1, 158, 512]            1,024\n",
      "|    └─Decoder: 2-6                                     [-1, 92, 512]             --\n",
      "|    |    └─ModuleList: 3                               []                        --\n",
      "|    |    |    └─DecoderLayer: 4-5                      [-1, 92, 512]             4,200,960\n",
      "|    |    |    └─DecoderLayer: 4-6                      [-1, 92, 512]             4,200,960\n",
      "|    |    |    └─DecoderLayer: 4-7                      [-1, 92, 512]             4,200,960\n",
      "|    |    |    └─DecoderLayer: 4-8                      [-1, 92, 512]             4,200,960\n",
      "|    |    └─LayerNorm: 3-2                              [-1, 92, 512]             1,024\n",
      "├─Sequential: 1-7                                       [-1, 92, 82]              --\n",
      "|    └─LayerNorm: 2-7                                   [-1, 92, 512]             1,024\n",
      "|    └─Linear: 2-8                                      [-1, 92, 512]             262,656\n",
      "|    └─GELU: 2-9                                        [-1, 92, 512]             --\n",
      "|    └─Dropout: 2-10                                    [-1, 92, 512]             --\n",
      "|    └─Linear: 2-11                                     [-1, 92, 82]              42,066\n",
      "=========================================================================================================\n",
      "Total params: 29,843,538\n",
      "Trainable params: 29,843,538\n",
      "Non-trainable params: 0\n",
      "Total mult-adds (M): 118.22\n",
      "=========================================================================================================\n",
      "Input size (MB): 0.10\n",
      "Forward/backward pass size (MB): 2.73\n",
      "Params size (MB): 113.84\n",
      "Estimated Total Size (MB): 116.68\n",
      "=========================================================================================================\n"
     ]
    }
   ],
   "source": [
    "model.summary(experiment_config[\"train_args\"][\"input_shape\"], 4)"
   ]
  },
  {
   "cell_type": "code",
   "execution_count": 61,
   "metadata": {},
   "outputs": [],
   "source": [
    "t=[12,1,1,1,1,1,4,4,4,4,4]"
   ]
  },
  {
   "cell_type": "code",
   "execution_count": 62,
   "metadata": {},
   "outputs": [
    {
     "data": {
      "text/plain": [
       "1"
      ]
     },
     "execution_count": 62,
     "metadata": {},
     "output_type": "execute_result"
    }
   ],
   "source": [
    "t[t!=79]"
   ]
  },
  {
   "cell_type": "code",
   "execution_count": 63,
   "metadata": {},
   "outputs": [],
   "source": [
    "x = torch.arange(10)\n",
    "value = 5\n",
    "x = x[x!=value]"
   ]
  },
  {
   "cell_type": "code",
   "execution_count": 64,
   "metadata": {},
   "outputs": [
    {
     "data": {
      "text/plain": [
       "tensor([0, 1, 2, 3, 4, 6, 7, 8, 9])"
      ]
     },
     "execution_count": 64,
     "metadata": {},
     "output_type": "execute_result"
    }
   ],
   "source": [
    "x"
   ]
  },
  {
   "cell_type": "code",
   "execution_count": 7,
   "metadata": {},
   "outputs": [],
   "source": [
    "t = torch.rand(98)"
   ]
  },
  {
   "cell_type": "code",
   "execution_count": 8,
   "metadata": {
    "scrolled": true
   },
   "outputs": [
    {
     "data": {
      "text/plain": [
       "tensor(1.7656e-43)"
      ]
     },
     "execution_count": 8,
     "metadata": {},
     "output_type": "execute_result"
    }
   ],
   "source": [
    "t.cumprod(dim=0)[-1]"
   ]
  },
  {
   "cell_type": "code",
   "execution_count": 24,
   "metadata": {},
   "outputs": [],
   "source": [
    "pred_tokens = torch.Tensor([1,2,21,31, 89, 89])"
   ]
  },
  {
   "cell_type": "code",
   "execution_count": 25,
   "metadata": {},
   "outputs": [],
   "source": [
    "pred_tokens = torch.stack([pred_tokens, pred_tokens])"
   ]
  },
  {
   "cell_type": "code",
   "execution_count": 26,
   "metadata": {},
   "outputs": [
    {
     "data": {
      "text/plain": [
       "tensor([[ 1.,  2., 21., 31., 89., 89.],\n",
       "        [ 1.,  2., 21., 31., 89., 89.]])"
      ]
     },
     "execution_count": 26,
     "metadata": {},
     "output_type": "execute_result"
    }
   ],
   "source": [
    "pred_tokens"
   ]
  },
  {
   "cell_type": "code",
   "execution_count": 27,
   "metadata": {},
   "outputs": [],
   "source": [
    "eos_token_index = torch.nonzero(\n",
    "            pred_tokens == 89, as_tuple=False,\n",
    "        )"
   ]
  },
  {
   "cell_type": "code",
   "execution_count": 31,
   "metadata": {},
   "outputs": [
    {
     "name": "stdout",
     "output_type": "stream",
     "text": [
      "0\n"
     ]
    }
   ],
   "source": [
    "if eos_token_index.nelement():\n",
    "    print(eos_token_index[0][0].item())"
   ]
  },
  {
   "cell_type": "code",
   "execution_count": 32,
   "metadata": {},
   "outputs": [
    {
     "data": {
      "text/plain": [
       "tensor([[0, 4],\n",
       "        [0, 5],\n",
       "        [1, 4],\n",
       "        [1, 5]])"
      ]
     },
     "execution_count": 32,
     "metadata": {},
     "output_type": "execute_result"
    }
   ],
   "source": [
    "eos_token_index"
   ]
  },
  {
   "cell_type": "code",
   "execution_count": 29,
   "metadata": {},
   "outputs": [
    {
     "data": {
      "text/plain": [
       "8"
      ]
     },
     "execution_count": 29,
     "metadata": {},
     "output_type": "execute_result"
    }
   ],
   "source": [
    "eos_token_index.nelement()"
   ]
  },
  {
   "cell_type": "code",
   "execution_count": 38,
   "metadata": {},
   "outputs": [],
   "source": [
    "from text_recognizer.models import accuracy"
   ]
  },
  {
   "cell_type": "code",
   "execution_count": 44,
   "metadata": {},
   "outputs": [],
   "source": [
    "pred = torch.Tensor([1,2,21,31, 80, 80]).unsqueeze(0)\n",
    "target = torch.Tensor([1,2,1,31, 80, 80]).unsqueeze(0)"
   ]
  },
  {
   "cell_type": "code",
   "execution_count": 57,
   "metadata": {},
   "outputs": [],
   "source": [
    "pred = torch.stack([pred, pred])\n",
    "target = torch.stack([target, target])"
   ]
  },
  {
   "cell_type": "code",
   "execution_count": 115,
   "metadata": {},
   "outputs": [],
   "source": [
    "target = torch.tensor([0, 1, 2, 3])\n",
    "pred = torch.tensor([0, 2, 1, 3])"
   ]
  },
  {
   "cell_type": "code",
   "execution_count": 116,
   "metadata": {},
   "outputs": [
    {
     "data": {
      "text/plain": [
       "0.5"
      ]
     },
     "execution_count": 116,
     "metadata": {},
     "output_type": "execute_result"
    }
   ],
   "source": [
    "accuracy(pred, target)"
   ]
  },
  {
   "cell_type": "code",
   "execution_count": null,
   "metadata": {},
   "outputs": [],
   "source": []
  },
  {
   "cell_type": "code",
   "execution_count": 53,
   "metadata": {},
   "outputs": [],
   "source": [
    "acc = (target.argmax(-1) == pred.argmax(-1)).float()\n",
    "\n",
    "# return float(100 * acc.sum() / len(acc))"
   ]
  },
  {
   "cell_type": "code",
   "execution_count": 54,
   "metadata": {},
   "outputs": [
    {
     "data": {
      "text/plain": [
       "tensor([[1.],\n",
       "        [1.]])"
      ]
     },
     "execution_count": 54,
     "metadata": {},
     "output_type": "execute_result"
    }
   ],
   "source": [
    "acc"
   ]
  },
  {
   "cell_type": "code",
   "execution_count": 58,
   "metadata": {},
   "outputs": [],
   "source": [
    "train_acc = (pred == target).sum().item()/target.shape[-1]"
   ]
  },
  {
   "cell_type": "code",
   "execution_count": 59,
   "metadata": {},
   "outputs": [
    {
     "data": {
      "text/plain": [
       "3.3333333333333335"
      ]
     },
     "execution_count": 59,
     "metadata": {},
     "output_type": "execute_result"
    }
   ],
   "source": [
    "train_acc"
   ]
  },
  {
   "cell_type": "code",
   "execution_count": null,
   "metadata": {},
   "outputs": [],
   "source": []
  }
 ],
 "metadata": {
  "kernelspec": {
   "display_name": "Python 3",
   "language": "python",
   "name": "python3"
  },
  "language_info": {
   "codemirror_mode": {
    "name": "ipython",
    "version": 3
   },
   "file_extension": ".py",
   "mimetype": "text/x-python",
   "name": "python",
   "nbconvert_exporter": "python",
   "pygments_lexer": "ipython3",
   "version": "3.7.4"
  }
 },
 "nbformat": 4,
 "nbformat_minor": 4
}
